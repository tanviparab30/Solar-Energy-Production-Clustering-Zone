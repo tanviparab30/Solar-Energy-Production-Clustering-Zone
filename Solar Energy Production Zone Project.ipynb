{
 "cells": [
  {
   "cell_type": "markdown",
   "id": "c7e0e251",
   "metadata": {},
   "source": [
    "# Solar Energy Production Zone Clustering"
   ]
  },
  {
   "cell_type": "markdown",
   "id": "01595133",
   "metadata": {},
   "source": [
    "# Abstract:\n",
    "This project focuses on clustering geographical areas based on their solar energy production to enhance strategic targeting, project feasibility, and data-driven decision-making in the renewable energy sector. The project's success relies on the effectiveness of the clustering algorithm, the clarity of the map visualization, and the actionable insights provided in the project report.\n",
    "\n",
    "# Objective:\n",
    "The primary objective of this project is to leverage data on existing solar power projects to group geographical areas based on their solar energy production levels. Through the implementation of a machine learning clustering algorithm, we aim to identify energy production zones within the target region. The project further aims to create an interactive map visualization tool and document methodology, findings, and recommendations in a comprehensive project report."
   ]
  },
  {
   "cell_type": "markdown",
   "id": "7a0c7674",
   "metadata": {},
   "source": [
    "# Challenges:\n",
    "Ensuring the availability and quality of data containing information on existing solar power projects can pose a significant challenge.\n",
    "\n",
    "Incomplete or inaccurate data may lead to biased clustering results and unreliable insights.\n",
    "\n",
    "Choosing the most suitable clustering algorithm for this specific task and optimizing its parameters to effectively group geographical areas based on their energy production levels requires careful consideration. \n",
    "\n",
    "Scaling the algorithm to handle large datasets efficiently is crucial for timely analysis.\n"
   ]
  },
  {
   "cell_type": "markdown",
   "id": "bf678d79",
   "metadata": {},
   "source": [
    "# Libraries Used:\n",
    "• Pandas - Data manipulation and Analysis.\n",
    "\n",
    "• NumPy - Numerical computing tasks.\n",
    "\n",
    "• Seaborn - Data Visualisation.\n",
    "\n",
    "• Matplotlib.pyplot - Plotting Graphs and Visualisation.\n",
    "\n",
    "• pd.set_option (\"display.max_columns\", None): This command ensures that all columns of a DataFrame are shown when printed, without truncation.\n",
    "\n",
    "• pd.set_option (\"display.max_rows\", None): This command ensures that all rows of a DataFrame are displayed when printed, without truncation.\n",
    "\n"
   ]
  },
  {
   "cell_type": "markdown",
   "id": "3896b94a",
   "metadata": {},
   "source": [
    "# Importing Libraries"
   ]
  },
  {
   "cell_type": "code",
   "execution_count": 1,
   "id": "aa687a5a",
   "metadata": {},
   "outputs": [],
   "source": [
    "import pandas as pd\n",
    "import numpy as np\n",
    "import seaborn as sns\n",
    "import matplotlib.pyplot as plt\n",
    "pd.set_option('display.max_columns', None)\n",
    "pd.set_option('display.max_rows', None)"
   ]
  },
  {
   "cell_type": "markdown",
   "id": "eb9cd1a1",
   "metadata": {},
   "source": [
    "# Data Ingestion"
   ]
  },
  {
   "cell_type": "code",
   "execution_count": 2,
   "id": "7c2b91b0",
   "metadata": {},
   "outputs": [
    {
     "name": "stderr",
     "output_type": "stream",
     "text": [
      "C:\\Users\\Tanvi\\AppData\\Local\\Temp\\ipykernel_10596\\3237215455.py:1: DtypeWarning: Columns (1,7) have mixed types. Specify dtype option on import or set low_memory=False.\n",
      "  df = pd.read_csv('C:\\\\Users\\\\Tanvi\\\\Downloads\\\\OneDrive_1_4-11-2024\\\\Statewide Solar Projects.csv')\n"
     ]
    }
   ],
   "source": [
    "df = pd.read_csv('C:\\\\Users\\\\Tanvi\\\\Downloads\\\\OneDrive_1_4-11-2024\\\\Statewide Solar Projects.csv')"
   ]
  },
  {
   "cell_type": "code",
   "execution_count": 3,
   "id": "ee79cb12",
   "metadata": {},
   "outputs": [
    {
     "data": {
      "text/html": [
       "<div>\n",
       "<style scoped>\n",
       "    .dataframe tbody tr th:only-of-type {\n",
       "        vertical-align: middle;\n",
       "    }\n",
       "\n",
       "    .dataframe tbody tr th {\n",
       "        vertical-align: top;\n",
       "    }\n",
       "\n",
       "    .dataframe thead th {\n",
       "        text-align: right;\n",
       "    }\n",
       "</style>\n",
       "<table border=\"1\" class=\"dataframe\">\n",
       "  <thead>\n",
       "    <tr style=\"text-align: right;\">\n",
       "      <th></th>\n",
       "      <th>Data Through Date</th>\n",
       "      <th>Project ID</th>\n",
       "      <th>Interconnection Date</th>\n",
       "      <th>Utility</th>\n",
       "      <th>City/Town</th>\n",
       "      <th>County</th>\n",
       "      <th>Zip</th>\n",
       "      <th>Division</th>\n",
       "      <th>Substation</th>\n",
       "      <th>Circuit ID</th>\n",
       "      <th>Developer</th>\n",
       "      <th>Metering Method</th>\n",
       "      <th>Estimated PV System Size (kWdc)</th>\n",
       "      <th>PV System Size (kWac)</th>\n",
       "      <th>Estimated Annual PV Energy Production (kWh)</th>\n",
       "      <th>Energy Storage System Size (kWac)</th>\n",
       "      <th>Number of Projects</th>\n",
       "    </tr>\n",
       "  </thead>\n",
       "  <tbody>\n",
       "    <tr>\n",
       "      <th>0</th>\n",
       "      <td>12/31/2023</td>\n",
       "      <td>SDG-66301</td>\n",
       "      <td>12/29/2023</td>\n",
       "      <td>Con Ed</td>\n",
       "      <td>Richmond Hill</td>\n",
       "      <td>Queens</td>\n",
       "      <td>11418.0</td>\n",
       "      <td>CENY-BK</td>\n",
       "      <td>Brownsville_2</td>\n",
       "      <td>9B05</td>\n",
       "      <td>Kamtech Solar Solutions</td>\n",
       "      <td>NM</td>\n",
       "      <td>6.05</td>\n",
       "      <td>5.17</td>\n",
       "      <td>7100</td>\n",
       "      <td>NaN</td>\n",
       "      <td>1</td>\n",
       "    </tr>\n",
       "    <tr>\n",
       "      <th>1</th>\n",
       "      <td>12/31/2023</td>\n",
       "      <td>SDG-66299</td>\n",
       "      <td>12/29/2023</td>\n",
       "      <td>Con Ed</td>\n",
       "      <td>Bronx</td>\n",
       "      <td>Bronx</td>\n",
       "      <td>10473.0</td>\n",
       "      <td>CENY-BX</td>\n",
       "      <td>Parkchester_2</td>\n",
       "      <td>5X67</td>\n",
       "      <td>Kamtech Solar Solutions</td>\n",
       "      <td>NM</td>\n",
       "      <td>6.74</td>\n",
       "      <td>5.76</td>\n",
       "      <td>7911</td>\n",
       "      <td>NaN</td>\n",
       "      <td>1</td>\n",
       "    </tr>\n",
       "    <tr>\n",
       "      <th>2</th>\n",
       "      <td>12/31/2023</td>\n",
       "      <td>SDG-66288</td>\n",
       "      <td>12/29/2023</td>\n",
       "      <td>Con Ed</td>\n",
       "      <td>Brooklyn</td>\n",
       "      <td>Kings</td>\n",
       "      <td>11225.0</td>\n",
       "      <td>CENY-BK</td>\n",
       "      <td>Bensonhurst_2</td>\n",
       "      <td>4B08</td>\n",
       "      <td>SUNCO</td>\n",
       "      <td>NM</td>\n",
       "      <td>3.05</td>\n",
       "      <td>2.61</td>\n",
       "      <td>3585</td>\n",
       "      <td>NaN</td>\n",
       "      <td>1</td>\n",
       "    </tr>\n",
       "    <tr>\n",
       "      <th>3</th>\n",
       "      <td>12/31/2023</td>\n",
       "      <td>SDG-66284</td>\n",
       "      <td>12/29/2023</td>\n",
       "      <td>Con Ed</td>\n",
       "      <td>Brooklyn</td>\n",
       "      <td>Kings</td>\n",
       "      <td>11236.0</td>\n",
       "      <td>CENY-BK</td>\n",
       "      <td>Bensonhurst_2</td>\n",
       "      <td>3037</td>\n",
       "      <td>Kamtech Solar Solutions</td>\n",
       "      <td>NM</td>\n",
       "      <td>5.62</td>\n",
       "      <td>4.80</td>\n",
       "      <td>6592</td>\n",
       "      <td>NaN</td>\n",
       "      <td>1</td>\n",
       "    </tr>\n",
       "    <tr>\n",
       "      <th>4</th>\n",
       "      <td>12/31/2023</td>\n",
       "      <td>SDG-66277</td>\n",
       "      <td>12/28/2023</td>\n",
       "      <td>Con Ed</td>\n",
       "      <td>Springfield Gardens</td>\n",
       "      <td>Queens</td>\n",
       "      <td>11413.0</td>\n",
       "      <td>CENY-Q</td>\n",
       "      <td>Jamaica</td>\n",
       "      <td>9112</td>\n",
       "      <td>Kamtech Solar Solutions</td>\n",
       "      <td>NM</td>\n",
       "      <td>6.05</td>\n",
       "      <td>5.17</td>\n",
       "      <td>7100</td>\n",
       "      <td>NaN</td>\n",
       "      <td>1</td>\n",
       "    </tr>\n",
       "    <tr>\n",
       "      <th>5</th>\n",
       "      <td>12/31/2023</td>\n",
       "      <td>SDG-66270</td>\n",
       "      <td>12/28/2023</td>\n",
       "      <td>Con Ed</td>\n",
       "      <td>Bronx</td>\n",
       "      <td>Bronx</td>\n",
       "      <td>10471.0</td>\n",
       "      <td>CENY-BX</td>\n",
       "      <td>Sherman_Creek</td>\n",
       "      <td>1104</td>\n",
       "      <td>Trinity Solar</td>\n",
       "      <td>NM</td>\n",
       "      <td>13.34</td>\n",
       "      <td>11.40</td>\n",
       "      <td>15657</td>\n",
       "      <td>NaN</td>\n",
       "      <td>1</td>\n",
       "    </tr>\n",
       "    <tr>\n",
       "      <th>6</th>\n",
       "      <td>12/31/2023</td>\n",
       "      <td>SDG-66256</td>\n",
       "      <td>12/28/2023</td>\n",
       "      <td>Con Ed</td>\n",
       "      <td>Bronx</td>\n",
       "      <td>Bronx</td>\n",
       "      <td>10465.0</td>\n",
       "      <td>CENY-BX</td>\n",
       "      <td>Parkchester_1</td>\n",
       "      <td>7672</td>\n",
       "      <td>MOMENTUM SOLAR</td>\n",
       "      <td>NM</td>\n",
       "      <td>4.41</td>\n",
       "      <td>3.77</td>\n",
       "      <td>5178</td>\n",
       "      <td>NaN</td>\n",
       "      <td>1</td>\n",
       "    </tr>\n",
       "    <tr>\n",
       "      <th>7</th>\n",
       "      <td>12/31/2023</td>\n",
       "      <td>SDG-66228</td>\n",
       "      <td>12/28/2023</td>\n",
       "      <td>Con Ed</td>\n",
       "      <td>Brooklyn</td>\n",
       "      <td>Kings</td>\n",
       "      <td>11230.0</td>\n",
       "      <td>CENY-BK</td>\n",
       "      <td>Bensonhurst_1</td>\n",
       "      <td>10B63</td>\n",
       "      <td>Kamtech Solar Solutions</td>\n",
       "      <td>NM</td>\n",
       "      <td>12.09</td>\n",
       "      <td>10.33</td>\n",
       "      <td>14187</td>\n",
       "      <td>NaN</td>\n",
       "      <td>1</td>\n",
       "    </tr>\n",
       "    <tr>\n",
       "      <th>8</th>\n",
       "      <td>12/31/2023</td>\n",
       "      <td>SDG-66227</td>\n",
       "      <td>12/28/2023</td>\n",
       "      <td>Con Ed</td>\n",
       "      <td>East Elmhurst</td>\n",
       "      <td>Queens</td>\n",
       "      <td>11369.0</td>\n",
       "      <td>CENY-Q</td>\n",
       "      <td>Corona_1</td>\n",
       "      <td>1208</td>\n",
       "      <td>Kamtech Solar Solutions</td>\n",
       "      <td>NM</td>\n",
       "      <td>4.32</td>\n",
       "      <td>3.69</td>\n",
       "      <td>5068</td>\n",
       "      <td>NaN</td>\n",
       "      <td>1</td>\n",
       "    </tr>\n",
       "    <tr>\n",
       "      <th>9</th>\n",
       "      <td>12/31/2023</td>\n",
       "      <td>SDG-66221</td>\n",
       "      <td>12/28/2023</td>\n",
       "      <td>Con Ed</td>\n",
       "      <td>Brooklyn</td>\n",
       "      <td>Kings</td>\n",
       "      <td>11218.0</td>\n",
       "      <td>CENY-BK</td>\n",
       "      <td>Greenwood</td>\n",
       "      <td>2B20</td>\n",
       "      <td>Kamtech Solar Solutions</td>\n",
       "      <td>NM</td>\n",
       "      <td>3.88</td>\n",
       "      <td>3.32</td>\n",
       "      <td>4560</td>\n",
       "      <td>NaN</td>\n",
       "      <td>1</td>\n",
       "    </tr>\n",
       "  </tbody>\n",
       "</table>\n",
       "</div>"
      ],
      "text/plain": [
       "  Data Through Date Project ID Interconnection Date Utility  \\\n",
       "0        12/31/2023  SDG-66301           12/29/2023  Con Ed   \n",
       "1        12/31/2023  SDG-66299           12/29/2023  Con Ed   \n",
       "2        12/31/2023  SDG-66288           12/29/2023  Con Ed   \n",
       "3        12/31/2023  SDG-66284           12/29/2023  Con Ed   \n",
       "4        12/31/2023  SDG-66277           12/28/2023  Con Ed   \n",
       "5        12/31/2023  SDG-66270           12/28/2023  Con Ed   \n",
       "6        12/31/2023  SDG-66256           12/28/2023  Con Ed   \n",
       "7        12/31/2023  SDG-66228           12/28/2023  Con Ed   \n",
       "8        12/31/2023  SDG-66227           12/28/2023  Con Ed   \n",
       "9        12/31/2023  SDG-66221           12/28/2023  Con Ed   \n",
       "\n",
       "             City/Town  County      Zip Division     Substation Circuit ID  \\\n",
       "0        Richmond Hill  Queens  11418.0  CENY-BK  Brownsville_2       9B05   \n",
       "1                Bronx   Bronx  10473.0  CENY-BX  Parkchester_2       5X67   \n",
       "2             Brooklyn   Kings  11225.0  CENY-BK  Bensonhurst_2       4B08   \n",
       "3             Brooklyn   Kings  11236.0  CENY-BK  Bensonhurst_2       3037   \n",
       "4  Springfield Gardens  Queens  11413.0   CENY-Q        Jamaica       9112   \n",
       "5                Bronx   Bronx  10471.0  CENY-BX  Sherman_Creek       1104   \n",
       "6                Bronx   Bronx  10465.0  CENY-BX  Parkchester_1       7672   \n",
       "7             Brooklyn   Kings  11230.0  CENY-BK  Bensonhurst_1      10B63   \n",
       "8        East Elmhurst  Queens  11369.0   CENY-Q       Corona_1       1208   \n",
       "9             Brooklyn   Kings  11218.0  CENY-BK      Greenwood       2B20   \n",
       "\n",
       "                 Developer Metering Method  Estimated PV System Size (kWdc)  \\\n",
       "0  Kamtech Solar Solutions              NM                             6.05   \n",
       "1  Kamtech Solar Solutions              NM                             6.74   \n",
       "2                    SUNCO              NM                             3.05   \n",
       "3  Kamtech Solar Solutions              NM                             5.62   \n",
       "4  Kamtech Solar Solutions              NM                             6.05   \n",
       "5            Trinity Solar              NM                            13.34   \n",
       "6           MOMENTUM SOLAR              NM                             4.41   \n",
       "7  Kamtech Solar Solutions              NM                            12.09   \n",
       "8  Kamtech Solar Solutions              NM                             4.32   \n",
       "9  Kamtech Solar Solutions              NM                             3.88   \n",
       "\n",
       "   PV System Size (kWac)  Estimated Annual PV Energy Production (kWh)  \\\n",
       "0                   5.17                                         7100   \n",
       "1                   5.76                                         7911   \n",
       "2                   2.61                                         3585   \n",
       "3                   4.80                                         6592   \n",
       "4                   5.17                                         7100   \n",
       "5                  11.40                                        15657   \n",
       "6                   3.77                                         5178   \n",
       "7                  10.33                                        14187   \n",
       "8                   3.69                                         5068   \n",
       "9                   3.32                                         4560   \n",
       "\n",
       "   Energy Storage System Size (kWac)  Number of Projects  \n",
       "0                                NaN                   1  \n",
       "1                                NaN                   1  \n",
       "2                                NaN                   1  \n",
       "3                                NaN                   1  \n",
       "4                                NaN                   1  \n",
       "5                                NaN                   1  \n",
       "6                                NaN                   1  \n",
       "7                                NaN                   1  \n",
       "8                                NaN                   1  \n",
       "9                                NaN                   1  "
      ]
     },
     "execution_count": 3,
     "metadata": {},
     "output_type": "execute_result"
    }
   ],
   "source": [
    "df.head(10)"
   ]
  },
  {
   "cell_type": "code",
   "execution_count": 4,
   "id": "3f5cb095",
   "metadata": {},
   "outputs": [
    {
     "data": {
      "text/plain": [
       "(218115, 17)"
      ]
     },
     "execution_count": 4,
     "metadata": {},
     "output_type": "execute_result"
    }
   ],
   "source": [
    "df.shape"
   ]
  },
  {
   "cell_type": "markdown",
   "id": "2db991ae",
   "metadata": {},
   "source": [
    "I have check the shape of the dataset and I found there are 218115 rows and 17 columns"
   ]
  },
  {
   "cell_type": "code",
   "execution_count": 5,
   "id": "73b2e866",
   "metadata": {},
   "outputs": [
    {
     "data": {
      "text/plain": [
       "Index(['Data Through Date', 'Project ID', 'Interconnection Date', 'Utility',\n",
       "       'City/Town', 'County', 'Zip', 'Division', 'Substation', 'Circuit ID',\n",
       "       'Developer', 'Metering Method', 'Estimated PV System Size (kWdc)',\n",
       "       'PV System Size (kWac)', 'Estimated Annual PV Energy Production (kWh)',\n",
       "       'Energy Storage System Size (kWac)', 'Number of Projects'],\n",
       "      dtype='object')"
      ]
     },
     "execution_count": 5,
     "metadata": {},
     "output_type": "execute_result"
    }
   ],
   "source": [
    "df.columns"
   ]
  },
  {
   "cell_type": "markdown",
   "id": "14592c5a",
   "metadata": {},
   "source": [
    "# Dataset Columns\n",
    "Data Through Date: The date up to which the data in the dataset is valid or relevant.\n",
    "\n",
    "Project ID: A unique identifier for each solar power project in the dataset.\n",
    "\n",
    "Interconnection Date: The date when the solar power project was connected to the grid or power distribution system.\n",
    "\n",
    "Utility: The utility company or organization responsible for managing the power grid and distributing electricity.\n",
    "\n",
    "City/Town: The location of the solar power project (city or town).\n",
    "\n",
    "County: The administrative division within the state where the solar project is situated.\n",
    "\n",
    "Zip: The postal code or ZIP code corresponding to the project’s location.\n",
    "\n",
    "Division: A further geographical subdivision within the state (if applicable).\n",
    "\n",
    "Substation: The electrical substation where the solar power project is connected to the grid.\n",
    "\n",
    "Circuit ID: The unique identifier for the circuit within the substation that the solar project is connected to.\n",
    "\n",
    "Developer: The entity or organization responsible for developing and implementing the solar power project.\n",
    "\n",
    "Metering Method: The method used to measure and record the solar energy production (e.g., net metering, gross metering).\n",
    "\n",
    "Estimated PV System Size (kWdc): The estimated size of the photovoltaic (PV) system in kilowatts direct current (kWdc). This represents the total capacity of the solar panels.\n",
    "\n",
    "PV System Size (kWac): The actual size of the PV system in kilowatts alternating current (kWac). This accounts for system losses and efficiency.\n",
    "\n",
    "Estimated Annual PV Energy Production (kWh): The projected annual energy production from the PV system in kilowatt-hours (kWh). This estimate considers factors like solar irradiance, panel orientation, and efficiency.\n",
    "\n",
    "Energy Storage System Size (kWac): If applicable, the size of any energy storage system (such as batteries) connected to the solar project, measured in kilowatts alternating current (kWac).\n",
    "\n",
    "Number of Projects: The total count of solar power projects represented in the dataset."
   ]
  },
  {
   "cell_type": "code",
   "execution_count": 6,
   "id": "ed920f7e",
   "metadata": {},
   "outputs": [
    {
     "name": "stdout",
     "output_type": "stream",
     "text": [
      "<class 'pandas.core.frame.DataFrame'>\n",
      "RangeIndex: 218115 entries, 0 to 218114\n",
      "Data columns (total 17 columns):\n",
      " #   Column                                       Non-Null Count   Dtype  \n",
      "---  ------                                       --------------   -----  \n",
      " 0   Data Through Date                            218115 non-null  object \n",
      " 1   Project ID                                   218112 non-null  object \n",
      " 2   Interconnection Date                         218115 non-null  object \n",
      " 3   Utility                                      218115 non-null  object \n",
      " 4   City/Town                                    218057 non-null  object \n",
      " 5   County                                       218115 non-null  object \n",
      " 6   Zip                                          218019 non-null  float64\n",
      " 7   Division                                     132881 non-null  object \n",
      " 8   Substation                                   138171 non-null  object \n",
      " 9   Circuit ID                                   218085 non-null  object \n",
      " 10  Developer                                    207567 non-null  object \n",
      " 11  Metering Method                              217652 non-null  object \n",
      " 12  Estimated PV System Size (kWdc)              218115 non-null  float64\n",
      " 13  PV System Size (kWac)                        218115 non-null  float64\n",
      " 14  Estimated Annual PV Energy Production (kWh)  218115 non-null  int64  \n",
      " 15  Energy Storage System Size (kWac)            4091 non-null    float64\n",
      " 16  Number of Projects                           218115 non-null  int64  \n",
      "dtypes: float64(4), int64(2), object(11)\n",
      "memory usage: 28.3+ MB\n"
     ]
    }
   ],
   "source": [
    "df.info()"
   ]
  },
  {
   "cell_type": "code",
   "execution_count": 7,
   "id": "ceb89e8b",
   "metadata": {},
   "outputs": [
    {
     "data": {
      "text/html": [
       "<div>\n",
       "<style scoped>\n",
       "    .dataframe tbody tr th:only-of-type {\n",
       "        vertical-align: middle;\n",
       "    }\n",
       "\n",
       "    .dataframe tbody tr th {\n",
       "        vertical-align: top;\n",
       "    }\n",
       "\n",
       "    .dataframe thead th {\n",
       "        text-align: right;\n",
       "    }\n",
       "</style>\n",
       "<table border=\"1\" class=\"dataframe\">\n",
       "  <thead>\n",
       "    <tr style=\"text-align: right;\">\n",
       "      <th></th>\n",
       "      <th>Zip</th>\n",
       "      <th>Estimated PV System Size (kWdc)</th>\n",
       "      <th>PV System Size (kWac)</th>\n",
       "      <th>Estimated Annual PV Energy Production (kWh)</th>\n",
       "      <th>Energy Storage System Size (kWac)</th>\n",
       "      <th>Number of Projects</th>\n",
       "    </tr>\n",
       "  </thead>\n",
       "  <tbody>\n",
       "    <tr>\n",
       "      <th>count</th>\n",
       "      <td>218019.000000</td>\n",
       "      <td>218115.000000</td>\n",
       "      <td>218115.000000</td>\n",
       "      <td>2.181150e+05</td>\n",
       "      <td>4091.000000</td>\n",
       "      <td>218115.0</td>\n",
       "    </tr>\n",
       "    <tr>\n",
       "      <th>mean</th>\n",
       "      <td>11751.734473</td>\n",
       "      <td>24.507977</td>\n",
       "      <td>19.065451</td>\n",
       "      <td>2.876828e+04</td>\n",
       "      <td>32.174727</td>\n",
       "      <td>1.0</td>\n",
       "    </tr>\n",
       "    <tr>\n",
       "      <th>std</th>\n",
       "      <td>962.129108</td>\n",
       "      <td>291.525394</td>\n",
       "      <td>211.419642</td>\n",
       "      <td>3.422042e+05</td>\n",
       "      <td>296.161116</td>\n",
       "      <td>0.0</td>\n",
       "    </tr>\n",
       "    <tr>\n",
       "      <th>min</th>\n",
       "      <td>10001.000000</td>\n",
       "      <td>0.010000</td>\n",
       "      <td>0.010000</td>\n",
       "      <td>1.400000e+01</td>\n",
       "      <td>0.350000</td>\n",
       "      <td>1.0</td>\n",
       "    </tr>\n",
       "    <tr>\n",
       "      <th>25%</th>\n",
       "      <td>11220.000000</td>\n",
       "      <td>5.270000</td>\n",
       "      <td>4.500000</td>\n",
       "      <td>6.180000e+03</td>\n",
       "      <td>5.000000</td>\n",
       "      <td>1.0</td>\n",
       "    </tr>\n",
       "    <tr>\n",
       "      <th>50%</th>\n",
       "      <td>11717.000000</td>\n",
       "      <td>7.130000</td>\n",
       "      <td>6.090000</td>\n",
       "      <td>8.364000e+03</td>\n",
       "      <td>7.600000</td>\n",
       "      <td>1.0</td>\n",
       "    </tr>\n",
       "    <tr>\n",
       "      <th>75%</th>\n",
       "      <td>12018.000000</td>\n",
       "      <td>10.240000</td>\n",
       "      <td>8.750000</td>\n",
       "      <td>1.201700e+04</td>\n",
       "      <td>10.000000</td>\n",
       "      <td>1.0</td>\n",
       "    </tr>\n",
       "    <tr>\n",
       "      <th>max</th>\n",
       "      <td>14905.000000</td>\n",
       "      <td>43470.000000</td>\n",
       "      <td>31500.000000</td>\n",
       "      <td>5.102682e+07</td>\n",
       "      <td>5000.000000</td>\n",
       "      <td>1.0</td>\n",
       "    </tr>\n",
       "  </tbody>\n",
       "</table>\n",
       "</div>"
      ],
      "text/plain": [
       "                 Zip  Estimated PV System Size (kWdc)  PV System Size (kWac)  \\\n",
       "count  218019.000000                    218115.000000          218115.000000   \n",
       "mean    11751.734473                        24.507977              19.065451   \n",
       "std       962.129108                       291.525394             211.419642   \n",
       "min     10001.000000                         0.010000               0.010000   \n",
       "25%     11220.000000                         5.270000               4.500000   \n",
       "50%     11717.000000                         7.130000               6.090000   \n",
       "75%     12018.000000                        10.240000               8.750000   \n",
       "max     14905.000000                     43470.000000           31500.000000   \n",
       "\n",
       "       Estimated Annual PV Energy Production (kWh)  \\\n",
       "count                                 2.181150e+05   \n",
       "mean                                  2.876828e+04   \n",
       "std                                   3.422042e+05   \n",
       "min                                   1.400000e+01   \n",
       "25%                                   6.180000e+03   \n",
       "50%                                   8.364000e+03   \n",
       "75%                                   1.201700e+04   \n",
       "max                                   5.102682e+07   \n",
       "\n",
       "       Energy Storage System Size (kWac)  Number of Projects  \n",
       "count                        4091.000000            218115.0  \n",
       "mean                           32.174727                 1.0  \n",
       "std                           296.161116                 0.0  \n",
       "min                             0.350000                 1.0  \n",
       "25%                             5.000000                 1.0  \n",
       "50%                             7.600000                 1.0  \n",
       "75%                            10.000000                 1.0  \n",
       "max                          5000.000000                 1.0  "
      ]
     },
     "execution_count": 7,
     "metadata": {},
     "output_type": "execute_result"
    }
   ],
   "source": [
    "df.describe()"
   ]
  },
  {
   "cell_type": "markdown",
   "id": "40bf7da7",
   "metadata": {},
   "source": [
    "# Finding NA and Null values"
   ]
  },
  {
   "cell_type": "code",
   "execution_count": 8,
   "id": "0269d179",
   "metadata": {
    "scrolled": true
   },
   "outputs": [
    {
     "data": {
      "text/plain": [
       "Data Through Date                                   0\n",
       "Project ID                                          3\n",
       "Interconnection Date                                0\n",
       "Utility                                             0\n",
       "City/Town                                          58\n",
       "County                                              0\n",
       "Zip                                                96\n",
       "Division                                        85234\n",
       "Substation                                      79944\n",
       "Circuit ID                                         30\n",
       "Developer                                       10548\n",
       "Metering Method                                   463\n",
       "Estimated PV System Size (kWdc)                     0\n",
       "PV System Size (kWac)                               0\n",
       "Estimated Annual PV Energy Production (kWh)         0\n",
       "Energy Storage System Size (kWac)              214024\n",
       "Number of Projects                                  0\n",
       "dtype: int64"
      ]
     },
     "execution_count": 8,
     "metadata": {},
     "output_type": "execute_result"
    }
   ],
   "source": [
    "df.isnull().sum()"
   ]
  },
  {
   "cell_type": "markdown",
   "id": "3d6c0439",
   "metadata": {},
   "source": [
    "Checking for Null Values and I found Energy Storage System Size (kWac) has highest number of null values aslo the division and substation has more null values."
   ]
  },
  {
   "cell_type": "markdown",
   "id": "7c302712",
   "metadata": {},
   "source": [
    "# Data Cleaning"
   ]
  },
  {
   "cell_type": "code",
   "execution_count": 9,
   "id": "8f8ca27c",
   "metadata": {},
   "outputs": [],
   "source": [
    "columns_to_drop = ['Project ID','Zip','Circuit ID','Energy Storage System Size (kWac)','Division','Substation']\n",
    "df = df.drop(columns=columns_to_drop)"
   ]
  },
  {
   "cell_type": "markdown",
   "id": "ea6441f4",
   "metadata": {},
   "source": [
    "I have dropped the 'Project ID','Zip','Circuit ID','Energy Storage System Size (kWac)','Division',and substation  column because some of the columns has largest number of null values and some of the columns are not relevant for the analysis"
   ]
  },
  {
   "cell_type": "code",
   "execution_count": 10,
   "id": "365b3aef",
   "metadata": {},
   "outputs": [
    {
     "data": {
      "text/plain": [
       "Data Through Date                                  0\n",
       "Interconnection Date                               0\n",
       "Utility                                            0\n",
       "City/Town                                         58\n",
       "County                                             0\n",
       "Developer                                      10548\n",
       "Metering Method                                  463\n",
       "Estimated PV System Size (kWdc)                    0\n",
       "PV System Size (kWac)                              0\n",
       "Estimated Annual PV Energy Production (kWh)        0\n",
       "Number of Projects                                 0\n",
       "dtype: int64"
      ]
     },
     "execution_count": 10,
     "metadata": {},
     "output_type": "execute_result"
    }
   ],
   "source": [
    "df.isnull().sum()"
   ]
  },
  {
   "cell_type": "code",
   "execution_count": 11,
   "id": "3edfe9b3",
   "metadata": {},
   "outputs": [
    {
     "data": {
      "text/html": [
       "<div>\n",
       "<style scoped>\n",
       "    .dataframe tbody tr th:only-of-type {\n",
       "        vertical-align: middle;\n",
       "    }\n",
       "\n",
       "    .dataframe tbody tr th {\n",
       "        vertical-align: top;\n",
       "    }\n",
       "\n",
       "    .dataframe thead th {\n",
       "        text-align: right;\n",
       "    }\n",
       "</style>\n",
       "<table border=\"1\" class=\"dataframe\">\n",
       "  <thead>\n",
       "    <tr style=\"text-align: right;\">\n",
       "      <th></th>\n",
       "      <th>Data Through Date</th>\n",
       "      <th>Interconnection Date</th>\n",
       "      <th>Utility</th>\n",
       "      <th>City/Town</th>\n",
       "      <th>County</th>\n",
       "      <th>Developer</th>\n",
       "      <th>Metering Method</th>\n",
       "      <th>Estimated PV System Size (kWdc)</th>\n",
       "      <th>PV System Size (kWac)</th>\n",
       "      <th>Estimated Annual PV Energy Production (kWh)</th>\n",
       "      <th>Number of Projects</th>\n",
       "    </tr>\n",
       "  </thead>\n",
       "  <tbody>\n",
       "    <tr>\n",
       "      <th>0</th>\n",
       "      <td>12/31/2023</td>\n",
       "      <td>12/29/2023</td>\n",
       "      <td>Con Ed</td>\n",
       "      <td>Richmond Hill</td>\n",
       "      <td>Queens</td>\n",
       "      <td>Kamtech Solar Solutions</td>\n",
       "      <td>NM</td>\n",
       "      <td>6.05</td>\n",
       "      <td>5.17</td>\n",
       "      <td>7100</td>\n",
       "      <td>1</td>\n",
       "    </tr>\n",
       "    <tr>\n",
       "      <th>1</th>\n",
       "      <td>12/31/2023</td>\n",
       "      <td>12/29/2023</td>\n",
       "      <td>Con Ed</td>\n",
       "      <td>Bronx</td>\n",
       "      <td>Bronx</td>\n",
       "      <td>Kamtech Solar Solutions</td>\n",
       "      <td>NM</td>\n",
       "      <td>6.74</td>\n",
       "      <td>5.76</td>\n",
       "      <td>7911</td>\n",
       "      <td>1</td>\n",
       "    </tr>\n",
       "    <tr>\n",
       "      <th>2</th>\n",
       "      <td>12/31/2023</td>\n",
       "      <td>12/29/2023</td>\n",
       "      <td>Con Ed</td>\n",
       "      <td>Brooklyn</td>\n",
       "      <td>Kings</td>\n",
       "      <td>SUNCO</td>\n",
       "      <td>NM</td>\n",
       "      <td>3.05</td>\n",
       "      <td>2.61</td>\n",
       "      <td>3585</td>\n",
       "      <td>1</td>\n",
       "    </tr>\n",
       "    <tr>\n",
       "      <th>3</th>\n",
       "      <td>12/31/2023</td>\n",
       "      <td>12/29/2023</td>\n",
       "      <td>Con Ed</td>\n",
       "      <td>Brooklyn</td>\n",
       "      <td>Kings</td>\n",
       "      <td>Kamtech Solar Solutions</td>\n",
       "      <td>NM</td>\n",
       "      <td>5.62</td>\n",
       "      <td>4.80</td>\n",
       "      <td>6592</td>\n",
       "      <td>1</td>\n",
       "    </tr>\n",
       "    <tr>\n",
       "      <th>4</th>\n",
       "      <td>12/31/2023</td>\n",
       "      <td>12/28/2023</td>\n",
       "      <td>Con Ed</td>\n",
       "      <td>Springfield Gardens</td>\n",
       "      <td>Queens</td>\n",
       "      <td>Kamtech Solar Solutions</td>\n",
       "      <td>NM</td>\n",
       "      <td>6.05</td>\n",
       "      <td>5.17</td>\n",
       "      <td>7100</td>\n",
       "      <td>1</td>\n",
       "    </tr>\n",
       "  </tbody>\n",
       "</table>\n",
       "</div>"
      ],
      "text/plain": [
       "  Data Through Date Interconnection Date Utility            City/Town  County  \\\n",
       "0        12/31/2023           12/29/2023  Con Ed        Richmond Hill  Queens   \n",
       "1        12/31/2023           12/29/2023  Con Ed                Bronx   Bronx   \n",
       "2        12/31/2023           12/29/2023  Con Ed             Brooklyn   Kings   \n",
       "3        12/31/2023           12/29/2023  Con Ed             Brooklyn   Kings   \n",
       "4        12/31/2023           12/28/2023  Con Ed  Springfield Gardens  Queens   \n",
       "\n",
       "                 Developer Metering Method  Estimated PV System Size (kWdc)  \\\n",
       "0  Kamtech Solar Solutions              NM                             6.05   \n",
       "1  Kamtech Solar Solutions              NM                             6.74   \n",
       "2                    SUNCO              NM                             3.05   \n",
       "3  Kamtech Solar Solutions              NM                             5.62   \n",
       "4  Kamtech Solar Solutions              NM                             6.05   \n",
       "\n",
       "   PV System Size (kWac)  Estimated Annual PV Energy Production (kWh)  \\\n",
       "0                   5.17                                         7100   \n",
       "1                   5.76                                         7911   \n",
       "2                   2.61                                         3585   \n",
       "3                   4.80                                         6592   \n",
       "4                   5.17                                         7100   \n",
       "\n",
       "   Number of Projects  \n",
       "0                   1  \n",
       "1                   1  \n",
       "2                   1  \n",
       "3                   1  \n",
       "4                   1  "
      ]
     },
     "execution_count": 11,
     "metadata": {},
     "output_type": "execute_result"
    }
   ],
   "source": [
    "df.head()"
   ]
  },
  {
   "cell_type": "markdown",
   "id": "62aab64e",
   "metadata": {},
   "source": [
    "Then I chceked for the unique values of Utility , City/Town and County Column and I found that City/Town and County column has more unique values. City/Town has 3009 unique values and County column has 62 unique values."
   ]
  },
  {
   "cell_type": "code",
   "execution_count": 12,
   "id": "6b12d297",
   "metadata": {},
   "outputs": [
    {
     "data": {
      "text/plain": [
       "array(['Con Ed', 'PSEGLI', 'O&R', 'Central Hudson', 'National Grid',\n",
       "       'NYSEG', 'RGE'], dtype=object)"
      ]
     },
     "execution_count": 12,
     "metadata": {},
     "output_type": "execute_result"
    }
   ],
   "source": [
    "df['Utility'].unique()"
   ]
  },
  {
   "cell_type": "code",
   "execution_count": 13,
   "id": "fe841fa3",
   "metadata": {},
   "outputs": [
    {
     "data": {
      "text/plain": [
       "3009"
      ]
     },
     "execution_count": 13,
     "metadata": {},
     "output_type": "execute_result"
    }
   ],
   "source": [
    "df['City/Town'].nunique()"
   ]
  },
  {
   "cell_type": "code",
   "execution_count": 14,
   "id": "f21ae985",
   "metadata": {},
   "outputs": [
    {
     "data": {
      "text/plain": [
       "62"
      ]
     },
     "execution_count": 14,
     "metadata": {},
     "output_type": "execute_result"
    }
   ],
   "source": [
    "df['County'].nunique()"
   ]
  },
  {
   "cell_type": "markdown",
   "id": "7ab19505",
   "metadata": {},
   "source": [
    "Checking for the duplicates present in the dataset and I found 4763 duplicates value in the dataset.\n",
    "I have cleared the duplicates by using drop_duplicates function."
   ]
  },
  {
   "cell_type": "code",
   "execution_count": 15,
   "id": "32444cec",
   "metadata": {},
   "outputs": [
    {
     "data": {
      "text/plain": [
       "4763"
      ]
     },
     "execution_count": 15,
     "metadata": {},
     "output_type": "execute_result"
    }
   ],
   "source": [
    "df.duplicated().sum()"
   ]
  },
  {
   "cell_type": "code",
   "execution_count": 16,
   "id": "2285bc89",
   "metadata": {},
   "outputs": [],
   "source": [
    "df.drop_duplicates(inplace=True)"
   ]
  },
  {
   "cell_type": "code",
   "execution_count": 17,
   "id": "fa8cd155",
   "metadata": {},
   "outputs": [
    {
     "data": {
      "text/plain": [
       "0"
      ]
     },
     "execution_count": 17,
     "metadata": {},
     "output_type": "execute_result"
    }
   ],
   "source": [
    "df.duplicated().sum()"
   ]
  },
  {
   "cell_type": "code",
   "execution_count": 18,
   "id": "40265af2",
   "metadata": {},
   "outputs": [
    {
     "data": {
      "text/plain": [
       "Suffolk        51383\n",
       "Nassau         31985\n",
       "Queens         22535\n",
       "Westchester    12212\n",
       "Richmond       11397\n",
       "Name: County, dtype: int64"
      ]
     },
     "execution_count": 18,
     "metadata": {},
     "output_type": "execute_result"
    }
   ],
   "source": [
    "df['County'].value_counts().head(5)"
   ]
  },
  {
   "cell_type": "code",
   "execution_count": 19,
   "id": "84ef42b6",
   "metadata": {},
   "outputs": [
    {
     "data": {
      "text/plain": [
       "Data Through Date                                  0\n",
       "Interconnection Date                               0\n",
       "Utility                                            0\n",
       "City/Town                                         57\n",
       "County                                             0\n",
       "Developer                                      10427\n",
       "Metering Method                                  444\n",
       "Estimated PV System Size (kWdc)                    0\n",
       "PV System Size (kWac)                              0\n",
       "Estimated Annual PV Energy Production (kWh)        0\n",
       "Number of Projects                                 0\n",
       "dtype: int64"
      ]
     },
     "execution_count": 19,
     "metadata": {},
     "output_type": "execute_result"
    }
   ],
   "source": [
    "df.isnull().sum()"
   ]
  },
  {
   "cell_type": "markdown",
   "id": "640cde84",
   "metadata": {},
   "source": [
    "\n",
    "# Imputing Missing Values"
   ]
  },
  {
   "cell_type": "code",
   "execution_count": 20,
   "id": "49b09d96",
   "metadata": {},
   "outputs": [
    {
     "data": {
      "text/plain": [
       "STATEN ISLAND    6207\n",
       "BROOKLYN         5767\n",
       "Brooklyn         5356\n",
       "Staten Island    5015\n",
       "Jamaica          3277\n",
       "Name: City/Town, dtype: int64"
      ]
     },
     "execution_count": 20,
     "metadata": {},
     "output_type": "execute_result"
    }
   ],
   "source": [
    "df['City/Town'].value_counts().head(5)"
   ]
  },
  {
   "cell_type": "markdown",
   "id": "2ddf0f02",
   "metadata": {},
   "source": [
    "\n",
    "The code ensures uniformity by converting all 'City/Town' values to lowercase. \n",
    "\n",
    "It then removes rows with missing 'City/Town' data, enhancing the DataFrame's consistency and usability for analysis."
   ]
  },
  {
   "cell_type": "code",
   "execution_count": 21,
   "id": "77d89b0f",
   "metadata": {},
   "outputs": [],
   "source": [
    "# Convert non-null values to lowercase strings\n",
    "df['City/Town'] = df['City/Town'].apply(lambda x: str(x).lower())"
   ]
  },
  {
   "cell_type": "code",
   "execution_count": 22,
   "id": "6a7d7c1d",
   "metadata": {},
   "outputs": [],
   "source": [
    "df=df.dropna(subset=['City/Town'])"
   ]
  },
  {
   "cell_type": "markdown",
   "id": "66e0a753",
   "metadata": {},
   "source": [
    "Same like City/Town column I have do for County column to convert all the values to lowercase.\n",
    "\n",
    "It then removes rows with missing 'County' data, enhancing the DataFrame's consistency and usability for analysis"
   ]
  },
  {
   "cell_type": "code",
   "execution_count": 23,
   "id": "e2f3dfad",
   "metadata": {},
   "outputs": [],
   "source": [
    "df['County'] = df['County'].apply(lambda x: str(x).lower())"
   ]
  },
  {
   "cell_type": "code",
   "execution_count": 24,
   "id": "b2785ba7",
   "metadata": {},
   "outputs": [],
   "source": [
    "df=df.dropna(subset=['County'])"
   ]
  },
  {
   "cell_type": "code",
   "execution_count": 25,
   "id": "406cd11d",
   "metadata": {},
   "outputs": [
    {
     "data": {
      "text/plain": [
       "Data Through Date                                  0\n",
       "Interconnection Date                               0\n",
       "Utility                                            0\n",
       "City/Town                                          0\n",
       "County                                             0\n",
       "Developer                                      10427\n",
       "Metering Method                                  444\n",
       "Estimated PV System Size (kWdc)                    0\n",
       "PV System Size (kWac)                              0\n",
       "Estimated Annual PV Energy Production (kWh)        0\n",
       "Number of Projects                                 0\n",
       "dtype: int64"
      ]
     },
     "execution_count": 25,
     "metadata": {},
     "output_type": "execute_result"
    }
   ],
   "source": [
    "df.isnull().sum()"
   ]
  },
  {
   "cell_type": "markdown",
   "id": "30b80fd3",
   "metadata": {},
   "source": [
    "Then I checked Unique values for Developer Column.\n",
    "\n",
    "And Filled the developer column null values by using Random Choice Function"
   ]
  },
  {
   "cell_type": "code",
   "execution_count": 26,
   "id": "4c853b09",
   "metadata": {},
   "outputs": [
    {
     "data": {
      "text/plain": [
       "2568"
      ]
     },
     "execution_count": 26,
     "metadata": {},
     "output_type": "execute_result"
    }
   ],
   "source": [
    "df['Developer'].nunique()"
   ]
  },
  {
   "cell_type": "code",
   "execution_count": 27,
   "id": "a09f5165",
   "metadata": {},
   "outputs": [
    {
     "data": {
      "text/plain": [
       "Vivint Solar      12694\n",
       "MOMENTUM SOLAR    12436\n",
       "Sunrun Inc        11437\n",
       "Solar City        11326\n",
       "Other              6262\n",
       "Name: Developer, dtype: int64"
      ]
     },
     "execution_count": 27,
     "metadata": {},
     "output_type": "execute_result"
    }
   ],
   "source": [
    "df['Developer'].value_counts().head(5)"
   ]
  },
  {
   "cell_type": "markdown",
   "id": "5cc765d7",
   "metadata": {},
   "source": [
    "The provided code fills missing values in the 'Developer' column of the DataFrame df with a randomly chosen non-null value from the existing unique values in the 'Developer' column."
   ]
  },
  {
   "cell_type": "code",
   "execution_count": 28,
   "id": "94f7d3b3",
   "metadata": {},
   "outputs": [],
   "source": [
    "import random\n",
    "df['Developer'].fillna(random.choice(df['Developer'].dropna().unique()), inplace=True)"
   ]
  },
  {
   "cell_type": "code",
   "execution_count": 29,
   "id": "6ef66485",
   "metadata": {},
   "outputs": [
    {
     "data": {
      "text/plain": [
       "Data Through Date                                0\n",
       "Interconnection Date                             0\n",
       "Utility                                          0\n",
       "City/Town                                        0\n",
       "County                                           0\n",
       "Developer                                        0\n",
       "Metering Method                                444\n",
       "Estimated PV System Size (kWdc)                  0\n",
       "PV System Size (kWac)                            0\n",
       "Estimated Annual PV Energy Production (kWh)      0\n",
       "Number of Projects                               0\n",
       "dtype: int64"
      ]
     },
     "execution_count": 29,
     "metadata": {},
     "output_type": "execute_result"
    }
   ],
   "source": [
    "df.isnull().sum()"
   ]
  },
  {
   "cell_type": "code",
   "execution_count": 30,
   "id": "ccc2175c",
   "metadata": {},
   "outputs": [
    {
     "data": {
      "text/plain": [
       "2568"
      ]
     },
     "execution_count": 30,
     "metadata": {},
     "output_type": "execute_result"
    }
   ],
   "source": [
    "df['Developer'].nunique()"
   ]
  },
  {
   "cell_type": "markdown",
   "id": "2f27dc9d",
   "metadata": {},
   "source": [
    "Checked Unique values in Metering Method Column and I found there are only 6 unique values.\n",
    "\n",
    "And most of the values are from NM So I filled metering method null values by using mode function"
   ]
  },
  {
   "cell_type": "code",
   "execution_count": 31,
   "id": "2283a2b6",
   "metadata": {},
   "outputs": [
    {
     "data": {
      "text/plain": [
       "6"
      ]
     },
     "execution_count": 31,
     "metadata": {},
     "output_type": "execute_result"
    }
   ],
   "source": [
    "df['Metering Method'].nunique()"
   ]
  },
  {
   "cell_type": "code",
   "execution_count": 32,
   "id": "3ad675ea",
   "metadata": {},
   "outputs": [
    {
     "data": {
      "text/plain": [
       "NM     210689\n",
       "RNM      1040\n",
       "CDG       996\n",
       "RC         91\n",
       "FIT        88\n",
       "RFP         4\n",
       "Name: Metering Method, dtype: int64"
      ]
     },
     "execution_count": 32,
     "metadata": {},
     "output_type": "execute_result"
    }
   ],
   "source": [
    "df['Metering Method'].value_counts()"
   ]
  },
  {
   "cell_type": "code",
   "execution_count": 33,
   "id": "8843bb0a",
   "metadata": {},
   "outputs": [],
   "source": [
    "df['Metering Method'].fillna(df['Metering Method'].mode()[0], inplace=True)"
   ]
  },
  {
   "cell_type": "code",
   "execution_count": 34,
   "id": "48e69e8d",
   "metadata": {},
   "outputs": [
    {
     "data": {
      "text/plain": [
       "NM     211133\n",
       "RNM      1040\n",
       "CDG       996\n",
       "RC         91\n",
       "FIT        88\n",
       "RFP         4\n",
       "Name: Metering Method, dtype: int64"
      ]
     },
     "execution_count": 34,
     "metadata": {},
     "output_type": "execute_result"
    }
   ],
   "source": [
    "df['Metering Method'].value_counts()"
   ]
  },
  {
   "cell_type": "code",
   "execution_count": 35,
   "id": "7000e00a",
   "metadata": {},
   "outputs": [
    {
     "data": {
      "text/plain": [
       "Data Through Date                              0\n",
       "Interconnection Date                           0\n",
       "Utility                                        0\n",
       "City/Town                                      0\n",
       "County                                         0\n",
       "Developer                                      0\n",
       "Metering Method                                0\n",
       "Estimated PV System Size (kWdc)                0\n",
       "PV System Size (kWac)                          0\n",
       "Estimated Annual PV Energy Production (kWh)    0\n",
       "Number of Projects                             0\n",
       "dtype: int64"
      ]
     },
     "execution_count": 35,
     "metadata": {},
     "output_type": "execute_result"
    }
   ],
   "source": [
    "df.isnull().sum()"
   ]
  },
  {
   "cell_type": "markdown",
   "id": "0359eb7d",
   "metadata": {},
   "source": [
    "I converts the 'Interconnection Date' column to datetime format and extracts the month component, replacing the original column with the month values.\n",
    "\n",
    "And then I saved it to the dataframe."
   ]
  },
  {
   "cell_type": "code",
   "execution_count": 36,
   "id": "fd3e4e01",
   "metadata": {},
   "outputs": [],
   "source": [
    "df['Interconnection Date']=pd.to_datetime(df['Interconnection Date'])"
   ]
  },
  {
   "cell_type": "code",
   "execution_count": 37,
   "id": "c85a594a",
   "metadata": {},
   "outputs": [
    {
     "data": {
      "text/plain": [
       "array([12, 11, 10,  9,  8,  7,  6,  5,  4,  3,  2,  1], dtype=int64)"
      ]
     },
     "execution_count": 37,
     "metadata": {},
     "output_type": "execute_result"
    }
   ],
   "source": [
    "df['Interconnection Date'].dt.month.unique()"
   ]
  },
  {
   "cell_type": "code",
   "execution_count": 39,
   "id": "c16b8dcb",
   "metadata": {},
   "outputs": [],
   "source": [
    "df['Interconnection Date'] = df['Interconnection Date'].dt.month"
   ]
  },
  {
   "cell_type": "code",
   "execution_count": 40,
   "id": "83c99da1",
   "metadata": {},
   "outputs": [
    {
     "data": {
      "text/plain": [
       "array([12, 11, 10,  9,  8,  7,  6,  5,  4,  3,  2,  1], dtype=int64)"
      ]
     },
     "execution_count": 40,
     "metadata": {},
     "output_type": "execute_result"
    }
   ],
   "source": [
    "df['Interconnection Date'].unique()"
   ]
  },
  {
   "cell_type": "markdown",
   "id": "e19e1e7b",
   "metadata": {},
   "source": [
    "Same I have done for the data through date column as well.\n",
    "\n",
    "I covert Data Through Date column to datetime format and extracts the month component, replacing the original column with the month values.\n",
    "\n",
    "And then I saved it to the dataframe."
   ]
  },
  {
   "cell_type": "code",
   "execution_count": 41,
   "id": "37ecb832",
   "metadata": {},
   "outputs": [],
   "source": [
    "df['Data Through Date']=pd.to_datetime(df['Data Through Date'])"
   ]
  },
  {
   "cell_type": "code",
   "execution_count": 42,
   "id": "9401d960",
   "metadata": {},
   "outputs": [
    {
     "data": {
      "text/plain": [
       "array([12], dtype=int64)"
      ]
     },
     "execution_count": 42,
     "metadata": {},
     "output_type": "execute_result"
    }
   ],
   "source": [
    "df['Data Through Date'].dt.month.unique()"
   ]
  },
  {
   "cell_type": "code",
   "execution_count": 43,
   "id": "7ed677c6",
   "metadata": {},
   "outputs": [],
   "source": [
    "df['Data Through Date'] = df['Data Through Date'].dt.month"
   ]
  },
  {
   "cell_type": "code",
   "execution_count": 44,
   "id": "151db2fb",
   "metadata": {},
   "outputs": [
    {
     "data": {
      "text/plain": [
       "array([12], dtype=int64)"
      ]
     },
     "execution_count": 44,
     "metadata": {},
     "output_type": "execute_result"
    }
   ],
   "source": [
    "df['Data Through Date'].unique()"
   ]
  },
  {
   "cell_type": "code",
   "execution_count": 45,
   "id": "219954e8",
   "metadata": {},
   "outputs": [
    {
     "data": {
      "text/html": [
       "<div>\n",
       "<style scoped>\n",
       "    .dataframe tbody tr th:only-of-type {\n",
       "        vertical-align: middle;\n",
       "    }\n",
       "\n",
       "    .dataframe tbody tr th {\n",
       "        vertical-align: top;\n",
       "    }\n",
       "\n",
       "    .dataframe thead th {\n",
       "        text-align: right;\n",
       "    }\n",
       "</style>\n",
       "<table border=\"1\" class=\"dataframe\">\n",
       "  <thead>\n",
       "    <tr style=\"text-align: right;\">\n",
       "      <th></th>\n",
       "      <th>Data Through Date</th>\n",
       "      <th>Interconnection Date</th>\n",
       "      <th>Utility</th>\n",
       "      <th>City/Town</th>\n",
       "      <th>County</th>\n",
       "      <th>Developer</th>\n",
       "      <th>Metering Method</th>\n",
       "      <th>Estimated PV System Size (kWdc)</th>\n",
       "      <th>PV System Size (kWac)</th>\n",
       "      <th>Estimated Annual PV Energy Production (kWh)</th>\n",
       "      <th>Number of Projects</th>\n",
       "    </tr>\n",
       "  </thead>\n",
       "  <tbody>\n",
       "    <tr>\n",
       "      <th>0</th>\n",
       "      <td>12</td>\n",
       "      <td>12</td>\n",
       "      <td>Con Ed</td>\n",
       "      <td>richmond hill</td>\n",
       "      <td>queens</td>\n",
       "      <td>Kamtech Solar Solutions</td>\n",
       "      <td>NM</td>\n",
       "      <td>6.05</td>\n",
       "      <td>5.17</td>\n",
       "      <td>7100</td>\n",
       "      <td>1</td>\n",
       "    </tr>\n",
       "    <tr>\n",
       "      <th>1</th>\n",
       "      <td>12</td>\n",
       "      <td>12</td>\n",
       "      <td>Con Ed</td>\n",
       "      <td>bronx</td>\n",
       "      <td>bronx</td>\n",
       "      <td>Kamtech Solar Solutions</td>\n",
       "      <td>NM</td>\n",
       "      <td>6.74</td>\n",
       "      <td>5.76</td>\n",
       "      <td>7911</td>\n",
       "      <td>1</td>\n",
       "    </tr>\n",
       "    <tr>\n",
       "      <th>2</th>\n",
       "      <td>12</td>\n",
       "      <td>12</td>\n",
       "      <td>Con Ed</td>\n",
       "      <td>brooklyn</td>\n",
       "      <td>kings</td>\n",
       "      <td>SUNCO</td>\n",
       "      <td>NM</td>\n",
       "      <td>3.05</td>\n",
       "      <td>2.61</td>\n",
       "      <td>3585</td>\n",
       "      <td>1</td>\n",
       "    </tr>\n",
       "    <tr>\n",
       "      <th>3</th>\n",
       "      <td>12</td>\n",
       "      <td>12</td>\n",
       "      <td>Con Ed</td>\n",
       "      <td>brooklyn</td>\n",
       "      <td>kings</td>\n",
       "      <td>Kamtech Solar Solutions</td>\n",
       "      <td>NM</td>\n",
       "      <td>5.62</td>\n",
       "      <td>4.80</td>\n",
       "      <td>6592</td>\n",
       "      <td>1</td>\n",
       "    </tr>\n",
       "    <tr>\n",
       "      <th>4</th>\n",
       "      <td>12</td>\n",
       "      <td>12</td>\n",
       "      <td>Con Ed</td>\n",
       "      <td>springfield gardens</td>\n",
       "      <td>queens</td>\n",
       "      <td>Kamtech Solar Solutions</td>\n",
       "      <td>NM</td>\n",
       "      <td>6.05</td>\n",
       "      <td>5.17</td>\n",
       "      <td>7100</td>\n",
       "      <td>1</td>\n",
       "    </tr>\n",
       "  </tbody>\n",
       "</table>\n",
       "</div>"
      ],
      "text/plain": [
       "   Data Through Date  Interconnection Date Utility            City/Town  \\\n",
       "0                 12                    12  Con Ed        richmond hill   \n",
       "1                 12                    12  Con Ed                bronx   \n",
       "2                 12                    12  Con Ed             brooklyn   \n",
       "3                 12                    12  Con Ed             brooklyn   \n",
       "4                 12                    12  Con Ed  springfield gardens   \n",
       "\n",
       "   County                Developer Metering Method  \\\n",
       "0  queens  Kamtech Solar Solutions              NM   \n",
       "1   bronx  Kamtech Solar Solutions              NM   \n",
       "2   kings                    SUNCO              NM   \n",
       "3   kings  Kamtech Solar Solutions              NM   \n",
       "4  queens  Kamtech Solar Solutions              NM   \n",
       "\n",
       "   Estimated PV System Size (kWdc)  PV System Size (kWac)  \\\n",
       "0                             6.05                   5.17   \n",
       "1                             6.74                   5.76   \n",
       "2                             3.05                   2.61   \n",
       "3                             5.62                   4.80   \n",
       "4                             6.05                   5.17   \n",
       "\n",
       "   Estimated Annual PV Energy Production (kWh)  Number of Projects  \n",
       "0                                         7100                   1  \n",
       "1                                         7911                   1  \n",
       "2                                         3585                   1  \n",
       "3                                         6592                   1  \n",
       "4                                         7100                   1  "
      ]
     },
     "execution_count": 45,
     "metadata": {},
     "output_type": "execute_result"
    }
   ],
   "source": [
    "df.head()"
   ]
  },
  {
   "cell_type": "markdown",
   "id": "2555abca",
   "metadata": {},
   "source": [
    "Then I renamed the Interconnection date column to Interconnection month \n",
    "\n",
    "same as data through date column to data through month."
   ]
  },
  {
   "cell_type": "code",
   "execution_count": 46,
   "id": "be900b9d",
   "metadata": {},
   "outputs": [],
   "source": [
    "# Rename the \"Interconnection Date\" column to \"Interconnection Month\"\n",
    "df.rename(columns={'Interconnection Date': 'Interconnection Month'}, inplace=True)\n",
    "\n",
    "# Rename the \"Data Through Date\" column to \"Data Through Month\"\n",
    "df.rename(columns={'Data Through Date': 'Data Through Month'}, inplace=True)"
   ]
  },
  {
   "cell_type": "code",
   "execution_count": 47,
   "id": "39ac425e",
   "metadata": {},
   "outputs": [
    {
     "data": {
      "text/plain": [
       "Data Through Month                             0\n",
       "Interconnection Month                          0\n",
       "Utility                                        0\n",
       "City/Town                                      0\n",
       "County                                         0\n",
       "Developer                                      0\n",
       "Metering Method                                0\n",
       "Estimated PV System Size (kWdc)                0\n",
       "PV System Size (kWac)                          0\n",
       "Estimated Annual PV Energy Production (kWh)    0\n",
       "Number of Projects                             0\n",
       "dtype: int64"
      ]
     },
     "execution_count": 47,
     "metadata": {},
     "output_type": "execute_result"
    }
   ],
   "source": [
    "df.isnull().sum()"
   ]
  },
  {
   "cell_type": "code",
   "execution_count": 48,
   "id": "b4a91167",
   "metadata": {},
   "outputs": [
    {
     "data": {
      "text/html": [
       "<div>\n",
       "<style scoped>\n",
       "    .dataframe tbody tr th:only-of-type {\n",
       "        vertical-align: middle;\n",
       "    }\n",
       "\n",
       "    .dataframe tbody tr th {\n",
       "        vertical-align: top;\n",
       "    }\n",
       "\n",
       "    .dataframe thead th {\n",
       "        text-align: right;\n",
       "    }\n",
       "</style>\n",
       "<table border=\"1\" class=\"dataframe\">\n",
       "  <thead>\n",
       "    <tr style=\"text-align: right;\">\n",
       "      <th></th>\n",
       "      <th>Data Through Month</th>\n",
       "      <th>Interconnection Month</th>\n",
       "      <th>Utility</th>\n",
       "      <th>City/Town</th>\n",
       "      <th>County</th>\n",
       "      <th>Developer</th>\n",
       "      <th>Metering Method</th>\n",
       "      <th>Estimated PV System Size (kWdc)</th>\n",
       "      <th>PV System Size (kWac)</th>\n",
       "      <th>Estimated Annual PV Energy Production (kWh)</th>\n",
       "      <th>Number of Projects</th>\n",
       "    </tr>\n",
       "  </thead>\n",
       "  <tbody>\n",
       "    <tr>\n",
       "      <th>0</th>\n",
       "      <td>12</td>\n",
       "      <td>12</td>\n",
       "      <td>Con Ed</td>\n",
       "      <td>richmond hill</td>\n",
       "      <td>queens</td>\n",
       "      <td>Kamtech Solar Solutions</td>\n",
       "      <td>NM</td>\n",
       "      <td>6.05</td>\n",
       "      <td>5.17</td>\n",
       "      <td>7100</td>\n",
       "      <td>1</td>\n",
       "    </tr>\n",
       "    <tr>\n",
       "      <th>1</th>\n",
       "      <td>12</td>\n",
       "      <td>12</td>\n",
       "      <td>Con Ed</td>\n",
       "      <td>bronx</td>\n",
       "      <td>bronx</td>\n",
       "      <td>Kamtech Solar Solutions</td>\n",
       "      <td>NM</td>\n",
       "      <td>6.74</td>\n",
       "      <td>5.76</td>\n",
       "      <td>7911</td>\n",
       "      <td>1</td>\n",
       "    </tr>\n",
       "    <tr>\n",
       "      <th>2</th>\n",
       "      <td>12</td>\n",
       "      <td>12</td>\n",
       "      <td>Con Ed</td>\n",
       "      <td>brooklyn</td>\n",
       "      <td>kings</td>\n",
       "      <td>SUNCO</td>\n",
       "      <td>NM</td>\n",
       "      <td>3.05</td>\n",
       "      <td>2.61</td>\n",
       "      <td>3585</td>\n",
       "      <td>1</td>\n",
       "    </tr>\n",
       "    <tr>\n",
       "      <th>3</th>\n",
       "      <td>12</td>\n",
       "      <td>12</td>\n",
       "      <td>Con Ed</td>\n",
       "      <td>brooklyn</td>\n",
       "      <td>kings</td>\n",
       "      <td>Kamtech Solar Solutions</td>\n",
       "      <td>NM</td>\n",
       "      <td>5.62</td>\n",
       "      <td>4.80</td>\n",
       "      <td>6592</td>\n",
       "      <td>1</td>\n",
       "    </tr>\n",
       "    <tr>\n",
       "      <th>4</th>\n",
       "      <td>12</td>\n",
       "      <td>12</td>\n",
       "      <td>Con Ed</td>\n",
       "      <td>springfield gardens</td>\n",
       "      <td>queens</td>\n",
       "      <td>Kamtech Solar Solutions</td>\n",
       "      <td>NM</td>\n",
       "      <td>6.05</td>\n",
       "      <td>5.17</td>\n",
       "      <td>7100</td>\n",
       "      <td>1</td>\n",
       "    </tr>\n",
       "  </tbody>\n",
       "</table>\n",
       "</div>"
      ],
      "text/plain": [
       "   Data Through Month  Interconnection Month Utility            City/Town  \\\n",
       "0                  12                     12  Con Ed        richmond hill   \n",
       "1                  12                     12  Con Ed                bronx   \n",
       "2                  12                     12  Con Ed             brooklyn   \n",
       "3                  12                     12  Con Ed             brooklyn   \n",
       "4                  12                     12  Con Ed  springfield gardens   \n",
       "\n",
       "   County                Developer Metering Method  \\\n",
       "0  queens  Kamtech Solar Solutions              NM   \n",
       "1   bronx  Kamtech Solar Solutions              NM   \n",
       "2   kings                    SUNCO              NM   \n",
       "3   kings  Kamtech Solar Solutions              NM   \n",
       "4  queens  Kamtech Solar Solutions              NM   \n",
       "\n",
       "   Estimated PV System Size (kWdc)  PV System Size (kWac)  \\\n",
       "0                             6.05                   5.17   \n",
       "1                             6.74                   5.76   \n",
       "2                             3.05                   2.61   \n",
       "3                             5.62                   4.80   \n",
       "4                             6.05                   5.17   \n",
       "\n",
       "   Estimated Annual PV Energy Production (kWh)  Number of Projects  \n",
       "0                                         7100                   1  \n",
       "1                                         7911                   1  \n",
       "2                                         3585                   1  \n",
       "3                                         6592                   1  \n",
       "4                                         7100                   1  "
      ]
     },
     "execution_count": 48,
     "metadata": {},
     "output_type": "execute_result"
    }
   ],
   "source": [
    "df.head()"
   ]
  },
  {
   "cell_type": "markdown",
   "id": "7303cc8a",
   "metadata": {},
   "source": [
    "# Exploratory Data Analysis"
   ]
  },
  {
   "cell_type": "code",
   "execution_count": 49,
   "id": "b738c08e",
   "metadata": {},
   "outputs": [
    {
     "data": {
      "image/png": "[encoded data removed]",
      "text/plain": [
       "<Figure size 1400x800 with 1 Axes>"
      ]
     },
     "metadata": {},
     "output_type": "display_data"
    }
   ],
   "source": [
    "# Plot distribution of City/Town frequencies using a count plot\n",
    "plt.figure(figsize=(14, 8))\n",
    "sns.countplot(y='City/Town', data=df, order=df['City/Town'].value_counts().iloc[:20].index)\n",
    "plt.title('Top 20 Most Frequent City/Town')\n",
    "plt.xlabel('Frequency')\n",
    "plt.ylabel('City/Town')\n",
    "plt.show()"
   ]
  },
  {
   "cell_type": "markdown",
   "id": "472e275b",
   "metadata": {},
   "source": [
    "# Findings\n",
    "\n",
    "Staten Island City has the highest frequency, exceeding 10,000 occurrences.\n",
    "\n",
    "Brooklyn ranks second in frequency but falls slightly behind Staten Island.\n",
    "\n",
    "Baldwin City records the lowest frequency among the observed locations."
   ]
  },
  {
   "cell_type": "code",
   "execution_count": 50,
   "id": "94734de0",
   "metadata": {},
   "outputs": [
    {
     "data": {
      "image/png": "[encoded data removed]",
      "text/plain": [
       "<Figure size 1400x800 with 1 Axes>"
      ]
     },
     "metadata": {},
     "output_type": "display_data"
    }
   ],
   "source": [
    "# Plot distribution of County frequencies using a count plot\n",
    "plt.figure(figsize=(14, 8))\n",
    "sns.countplot(y='County', data=df, order=df['County'].value_counts().iloc[:20].index)\n",
    "plt.title('Top 20 Most Frequent Counties')\n",
    "plt.xlabel('Frequency')\n",
    "plt.ylabel('County')\n",
    "plt.show()"
   ]
  },
  {
   "cell_type": "markdown",
   "id": "836ddd97",
   "metadata": {},
   "source": [
    "# Findings\n",
    "\n",
    "Suffolk County emerges as the most frequent county, with a frequency exceeding 50,000.\n",
    "\n",
    "Nassau County follows closely, with a frequency ranging between 30,000 and 40,000.\n",
    "\n",
    "Columbia County exhibits the lowest frequency among all counties surveyed."
   ]
  },
  {
   "cell_type": "code",
   "execution_count": 51,
   "id": "1203eea6",
   "metadata": {},
   "outputs": [
    {
     "data": {
      "text/plain": [
       "<Axes: title={'center': 'Scatter plot'}, xlabel='PV System Size (kWac)', ylabel='Estimated Annual PV Energy Production (kWh)'>"
      ]
     },
     "execution_count": 51,
     "metadata": {},
     "output_type": "execute_result"
    },
    {
     "data": {
      "image/png": "[encoded data removed]",
      "text/plain": [
       "<Figure size 640x480 with 1 Axes>"
      ]
     },
     "metadata": {},
     "output_type": "display_data"
    }
   ],
   "source": [
    "#Scatter plot of PV System Size (kWac) vs Estimated Annual PV Energy Production (kWh)\n",
    "df.plot.scatter(x='PV System Size (kWac)', y='Estimated Annual PV Energy Production (kWh)', title='Scatter plot')"
   ]
  },
  {
   "cell_type": "markdown",
   "id": "241e97c5",
   "metadata": {},
   "source": [
    "# Findings\n",
    "\n",
    "I have used the scatter plot to see the linear relationship between  PV system size (kWac) and estimated annual PV energy production (kWh).\n",
    "\n",
    "But It is not showing me the linear relationship between both the columns.\n",
    "\n",
    "The presence of outliers are influencing the relationship between PV system size and estimated annual PV energy production."
   ]
  },
  {
   "cell_type": "markdown",
   "id": "5bb3d5d3",
   "metadata": {},
   "source": [
    "# Outliers Detection\n",
    "\n",
    "Boxplots helped find unusual data points (outliers) in the columns: 'Estimated PV System Size (kWdc)', 'PV System Size (kWac)', and 'Estimated Annual PV Energy Production (kWh)'.\n",
    "\n",
    "To address outliers, a formula was applied that capped extreme values at 1.5 times the range between the first and third quartiles.\n",
    "\n",
    "This action aimed to make the dataset more typical by reducing the impact of extreme values, ensuring a clearer understanding of the data's central tendency."
   ]
  },
  {
   "cell_type": "markdown",
   "id": "3e6c2d5a",
   "metadata": {},
   "source": [
    "# IQR Method\n",
    "\n",
    "1)Calculate the first quartile (25th percentile).\n",
    "\n",
    "2)Calculate the third quartile (75th percentile).\n",
    "\n",
    "3)Calculate the interquartile range (IQR) as the difference between Q3 and Q1.\n",
    "\n",
    "4)Calculate the lower limit as Q1 minus 1.5 times the IQR.\n",
    "\n",
    "5)Calculate the upper limit as Q3 plus 1.5 times the IQR.\n",
    "\n",
    "6)Apply a lambda function to each value in the column.\n",
    "If a value is less than the lower limit, it is replaced with the lower limit.\n",
    "If a value is greater than the upper limit, it is replaced with the upper limit.\n",
    "Otherwise, the value remains unchanged."
   ]
  },
  {
   "cell_type": "code",
   "execution_count": 52,
   "id": "372305c1",
   "metadata": {},
   "outputs": [
    {
     "data": {
      "text/plain": [
       "<Axes: xlabel='Estimated PV System Size (kWdc)'>"
      ]
     },
     "execution_count": 52,
     "metadata": {},
     "output_type": "execute_result"
    },
    {
     "data": {
      "image/png": "[encoded data removed]",
      "text/plain": [
       "<Figure size 640x480 with 1 Axes>"
      ]
     },
     "metadata": {},
     "output_type": "display_data"
    }
   ],
   "source": [
    "sns.boxplot(x='Estimated PV System Size (kWdc)', data=df)"
   ]
  },
  {
   "cell_type": "code",
   "execution_count": 53,
   "id": "4cb93b54",
   "metadata": {},
   "outputs": [],
   "source": [
    "column_to_cap = 'Estimated PV System Size (kWdc)'\n",
    "\n",
    "Q1 = df[column_to_cap].quantile(0.25)\n",
    "Q3 = df[column_to_cap].quantile(0.75)\n",
    "IQR = Q3 - Q1\n",
    "\n",
    "lower_limit = Q1 - 1.5 * IQR\n",
    "upper_limit = Q3 + 1.5 * IQR\n",
    "\n",
    "df[column_to_cap] = df[column_to_cap].apply(lambda x: lower_limit if x < lower_limit else (upper_limit if x > upper_limit else x))"
   ]
  },
  {
   "cell_type": "code",
   "execution_count": 54,
   "id": "fa6d27af",
   "metadata": {},
   "outputs": [
    {
     "data": {
      "text/plain": [
       "-2.2250000000000005"
      ]
     },
     "execution_count": 54,
     "metadata": {},
     "output_type": "execute_result"
    }
   ],
   "source": [
    "lower_limit"
   ]
  },
  {
   "cell_type": "code",
   "execution_count": 55,
   "id": "d5793485",
   "metadata": {},
   "outputs": [
    {
     "data": {
      "text/plain": [
       "17.815"
      ]
     },
     "execution_count": 55,
     "metadata": {},
     "output_type": "execute_result"
    }
   ],
   "source": [
    "upper_limit"
   ]
  },
  {
   "cell_type": "code",
   "execution_count": 56,
   "id": "2d08a9ec",
   "metadata": {},
   "outputs": [
    {
     "data": {
      "image/png": "[encoded data removed]",
      "text/plain": [
       "<Figure size 1000x600 with 1 Axes>"
      ]
     },
     "metadata": {},
     "output_type": "display_data"
    }
   ],
   "source": [
    "plt.figure(figsize=(10, 6))\n",
    "sns.boxplot(x=df['Estimated PV System Size (kWdc)'])\n",
    "plt.title('Box Plot for Estimated PV System Size (kWdc)')\n",
    "plt.show()"
   ]
  },
  {
   "cell_type": "code",
   "execution_count": 57,
   "id": "4bc58a36",
   "metadata": {},
   "outputs": [
    {
     "data": {
      "text/plain": [
       "<Axes: xlabel='PV System Size (kWac)'>"
      ]
     },
     "execution_count": 57,
     "metadata": {},
     "output_type": "execute_result"
    },
    {
     "data": {
      "image/png": "[encoded data removed]",
      "text/plain": [
       "<Figure size 640x480 with 1 Axes>"
      ]
     },
     "metadata": {},
     "output_type": "display_data"
    }
   ],
   "source": [
    "sns.boxplot(x='PV System Size (kWac)', data=df)"
   ]
  },
  {
   "cell_type": "code",
   "execution_count": 58,
   "id": "0629c2a8",
   "metadata": {},
   "outputs": [],
   "source": [
    "column_to_cap = 'PV System Size (kWac)'\n",
    "\n",
    "Q1 = df[column_to_cap].quantile(0.25)\n",
    "Q3 = df[column_to_cap].quantile(0.75)\n",
    "IQR = Q3 - Q1\n",
    "\n",
    "lower_limit = Q1 - 1.5 * IQR\n",
    "upper_limit = Q3 + 1.5 * IQR\n",
    "\n",
    "df[column_to_cap] = df[column_to_cap].apply(lambda x: lower_limit if x < lower_limit else (upper_limit if x > upper_limit else x))"
   ]
  },
  {
   "cell_type": "code",
   "execution_count": 59,
   "id": "26afb10a",
   "metadata": {},
   "outputs": [
    {
     "data": {
      "text/plain": [
       "-1.9000000000000021"
      ]
     },
     "execution_count": 59,
     "metadata": {},
     "output_type": "execute_result"
    }
   ],
   "source": [
    "lower_limit"
   ]
  },
  {
   "cell_type": "code",
   "execution_count": 60,
   "id": "d8641453",
   "metadata": {},
   "outputs": [
    {
     "data": {
      "text/plain": [
       "15.220000000000002"
      ]
     },
     "execution_count": 60,
     "metadata": {},
     "output_type": "execute_result"
    }
   ],
   "source": [
    "upper_limit"
   ]
  },
  {
   "cell_type": "code",
   "execution_count": 61,
   "id": "f32b9733",
   "metadata": {},
   "outputs": [
    {
     "data": {
      "image/png": "[encoded data removed]",
      "text/plain": [
       "<Figure size 1000x600 with 1 Axes>"
      ]
     },
     "metadata": {},
     "output_type": "display_data"
    }
   ],
   "source": [
    "plt.figure(figsize=(10, 6))\n",
    "sns.boxplot(x=df['PV System Size (kWac)'])\n",
    "plt.title('Box Plot for PV System Size (kWac)')\n",
    "plt.show()"
   ]
  },
  {
   "cell_type": "code",
   "execution_count": 62,
   "id": "d89526c9",
   "metadata": {},
   "outputs": [
    {
     "data": {
      "text/plain": [
       "<Axes: xlabel='Estimated Annual PV Energy Production (kWh)'>"
      ]
     },
     "execution_count": 62,
     "metadata": {},
     "output_type": "execute_result"
    },
    {
     "data": {
      "image/png": "[encoded data removed]",
      "text/plain": [
       "<Figure size 640x480 with 1 Axes>"
      ]
     },
     "metadata": {},
     "output_type": "display_data"
    }
   ],
   "source": [
    "sns.boxplot(x='Estimated Annual PV Energy Production (kWh)', data=df)"
   ]
  },
  {
   "cell_type": "code",
   "execution_count": 63,
   "id": "fb7a5a24",
   "metadata": {},
   "outputs": [],
   "source": [
    "column_to_cap = 'Estimated Annual PV Energy Production (kWh)'\n",
    "\n",
    "Q1 = df[column_to_cap].quantile(0.25)\n",
    "Q3 = df[column_to_cap].quantile(0.75)\n",
    "IQR = Q3 - Q1\n",
    "\n",
    "lower_limit = Q1 - 1.5 * IQR\n",
    "upper_limit = Q3 + 1.5 * IQR\n",
    "\n",
    "df[column_to_cap] = df[column_to_cap].apply(lambda x: lower_limit if x < lower_limit else (upper_limit if x > upper_limit else x))"
   ]
  },
  {
   "cell_type": "code",
   "execution_count": 64,
   "id": "04881619",
   "metadata": {},
   "outputs": [
    {
     "data": {
      "text/plain": [
       "-2609.0"
      ]
     },
     "execution_count": 64,
     "metadata": {},
     "output_type": "execute_result"
    }
   ],
   "source": [
    "lower_limit"
   ]
  },
  {
   "cell_type": "code",
   "execution_count": 65,
   "id": "8bc95b9b",
   "metadata": {},
   "outputs": [
    {
     "data": {
      "text/plain": [
       "20903.0"
      ]
     },
     "execution_count": 65,
     "metadata": {},
     "output_type": "execute_result"
    }
   ],
   "source": [
    "upper_limit"
   ]
  },
  {
   "cell_type": "code",
   "execution_count": 66,
   "id": "9d698b1a",
   "metadata": {},
   "outputs": [
    {
     "data": {
      "text/plain": [
       "<Axes: xlabel='Estimated Annual PV Energy Production (kWh)'>"
      ]
     },
     "execution_count": 66,
     "metadata": {},
     "output_type": "execute_result"
    },
    {
     "data": {
      "image/png": "[encoded data removed]",
      "text/plain": [
       "<Figure size 640x480 with 1 Axes>"
      ]
     },
     "metadata": {},
     "output_type": "display_data"
    }
   ],
   "source": [
    "sns.boxplot(x='Estimated Annual PV Energy Production (kWh)', data=df)"
   ]
  },
  {
   "cell_type": "code",
   "execution_count": 67,
   "id": "47106c2d",
   "metadata": {},
   "outputs": [
    {
     "data": {
      "text/plain": [
       "<Axes: title={'center': 'Histogram of Estimated Annual PV Energy Production (kWh)'}, ylabel='Frequency'>"
      ]
     },
     "execution_count": 67,
     "metadata": {},
     "output_type": "execute_result"
    },
    {
     "data": {
      "image/png": "[encoded data removed]",
      "text/plain": [
       "<Figure size 640x480 with 1 Axes>"
      ]
     },
     "metadata": {},
     "output_type": "display_data"
    }
   ],
   "source": [
    "df['Estimated Annual PV Energy Production (kWh)'].plot(kind='hist', bins=20, title='Histogram of Estimated Annual PV Energy Production (kWh)')"
   ]
  },
  {
   "cell_type": "markdown",
   "id": "f15b469d",
   "metadata": {},
   "source": [
    "# Findings\n",
    "\n",
    "The histogram of estimated annual PV energy production (kWh) reveals a distribution of frequencies across different production ranges.\n",
    "\n",
    "The range from 5000 to 10000 kWh exhibits the highest frequency, indicating a significant concentration of energy production within this range.\n",
    "\n",
    "There is a moderate increase in frequency from 10000 to 15000 kWh, suggesting a gradual rise in energy production within this range.\n",
    "\n",
    "Beyond 15000 kWh up to 20000 kWh, the frequency shows a decrease, indicating a lower occurrence of energy production in this higher range."
   ]
  },
  {
   "cell_type": "code",
   "execution_count": 68,
   "id": "da5295be",
   "metadata": {},
   "outputs": [
    {
     "data": {
      "text/plain": [
       "<Axes: title={'center': 'Histogram of PV System Size (kWac)'}, ylabel='Frequency'>"
      ]
     },
     "execution_count": 68,
     "metadata": {},
     "output_type": "execute_result"
    },
    {
     "data": {
      "image/png": "[encoded data removed]",
      "text/plain": [
       "<Figure size 640x480 with 1 Axes>"
      ]
     },
     "metadata": {},
     "output_type": "display_data"
    }
   ],
   "source": [
    "df['PV System Size (kWac)'].plot(kind='hist', bins=20, title='Histogram of PV System Size (kWac)')"
   ]
  },
  {
   "cell_type": "markdown",
   "id": "29538859",
   "metadata": {},
   "source": [
    "# Findings\n",
    "\n",
    "The histogram of PV System Size (kWac) displays the distribution of frequencies across different system size ranges.\n",
    "\n",
    "The range from 4 to 6 kWac exhibits the highest frequency, indicating a significant concentration of PV systems within this size range.\n",
    "\n",
    "There is a moderate increase in frequency from 8 to 10 kWac, suggesting a gradual rise in the number of PV systems within this size range.\n",
    "\n",
    "Beyond 12 to 14 kWac, the frequency shows a decrease, indicating a lower occurrence of PV systems in this larger size range."
   ]
  },
  {
   "cell_type": "code",
   "execution_count": 69,
   "id": "cd4aa373",
   "metadata": {},
   "outputs": [
    {
     "data": {
      "text/plain": [
       "<Axes: title={'center': 'Estimated PV System Size (kWdc)'}, ylabel='Frequency'>"
      ]
     },
     "execution_count": 69,
     "metadata": {},
     "output_type": "execute_result"
    },
    {
     "data": {
      "image/png": "[encoded data removed]",
      "text/plain": [
       "<Figure size 640x480 with 1 Axes>"
      ]
     },
     "metadata": {},
     "output_type": "display_data"
    }
   ],
   "source": [
    "df['Estimated PV System Size (kWdc)'].plot(kind='hist', bins=20, title='Estimated PV System Size (kWdc)')"
   ]
  },
  {
   "cell_type": "markdown",
   "id": "b2a85a76",
   "metadata": {},
   "source": [
    "# Findings\n",
    " \n",
    "The histogram of Estimated PV System Size (kWdc) illustrates the distribution of frequencies across different system size ranges.\n",
    "\n",
    "The range from 5.0 to 7.5 kWdc exhibits the highest frequency, indicating a significant concentration of estimated system sizes within this range.\n",
    "\n",
    "There is a moderate increase in frequency from 10.0 to 12.5 kWdc, suggesting a gradual rise in the number of estimated system sizes within this range.\n",
    "\n",
    "Beyond 15.0 to 17.5 kWdc, the frequency shows a decrease, indicating a lower occurrence of estimated system sizes in this larger range."
   ]
  },
  {
   "cell_type": "code",
   "execution_count": 70,
   "id": "14941856",
   "metadata": {},
   "outputs": [
    {
     "name": "stdout",
     "output_type": "stream",
     "text": [
      "Correlation between PV System Size and Energy Production: 0.9999999794039963\n"
     ]
    }
   ],
   "source": [
    "# Calculate correlation between PV system size and energy production\n",
    "correlation = df['PV System Size (kWac)'].corr(df['Estimated Annual PV Energy Production (kWh)'])\n",
    "print(\"Correlation between PV System Size and Energy Production:\", correlation)"
   ]
  },
  {
   "cell_type": "markdown",
   "id": "fab6cde7",
   "metadata": {},
   "source": [
    "Then I Have checked the correlation between PV System size and Estimated Annual PV Energy Production (kWh) and I found that there is 99% correlation between both the columns.\n",
    "\n",
    "The columns are highly correlated."
   ]
  },
  {
   "cell_type": "code",
   "execution_count": 71,
   "id": "68d04df1",
   "metadata": {},
   "outputs": [
    {
     "name": "stderr",
     "output_type": "stream",
     "text": [
      "C:\\Users\\Tanvi\\AppData\\Local\\Temp\\ipykernel_10596\\3506789502.py:3: FutureWarning: \n",
      "\n",
      "`shade` is now deprecated in favor of `fill`; setting `fill=True`.\n",
      "This will become an error in seaborn v0.14.0; please update your code.\n",
      "\n",
      "  sns.kdeplot(df['PV System Size (kWac)'], shade=True)\n"
     ]
    },
    {
     "data": {
      "image/png": "[encoded data removed]",
      "text/plain": [
       "<Figure size 800x600 with 1 Axes>"
      ]
     },
     "metadata": {},
     "output_type": "display_data"
    }
   ],
   "source": [
    "# Density plot of PV system size\n",
    "plt.figure(figsize=(8, 6))\n",
    "sns.kdeplot(df['PV System Size (kWac)'], shade=True)\n",
    "plt.title('Density Plot of PV System Size')\n",
    "plt.xlabel('PV System Size (kWac)')\n",
    "plt.ylabel('Density')\n",
    "plt.show()"
   ]
  },
  {
   "cell_type": "code",
   "execution_count": 72,
   "id": "04db510b",
   "metadata": {},
   "outputs": [
    {
     "data": {
      "text/plain": [
       "<Axes: title={'center': 'Scatter plot'}, xlabel='PV System Size (kWac)', ylabel='Estimated Annual PV Energy Production (kWh)'>"
      ]
     },
     "execution_count": 72,
     "metadata": {},
     "output_type": "execute_result"
    },
    {
     "data": {
      "image/png": "[encoded data removed]",
      "text/plain": [
       "<Figure size 640x480 with 1 Axes>"
      ]
     },
     "metadata": {},
     "output_type": "display_data"
    }
   ],
   "source": [
    "#Scatter plot of PV System Size (kWac) vs Estimated Annual PV Energy Production (kWh)\n",
    "df.plot.scatter(x='PV System Size (kWac)', y='Estimated Annual PV Energy Production (kWh)', title='Scatter plot')"
   ]
  },
  {
   "cell_type": "markdown",
   "id": "3486129b",
   "metadata": {},
   "source": [
    "# Findings\n",
    "\n",
    "I have used the scatter plot to see the linear relationship between  PV system size (kWac) and estimated annual PV energy production (kWh).\n",
    "\n",
    "After Removing the Outliers, It is showing me the linear relationship between both the columns."
   ]
  },
  {
   "cell_type": "code",
   "execution_count": 73,
   "id": "c9abe4a1",
   "metadata": {},
   "outputs": [
    {
     "data": {
      "text/html": [
       "<div>\n",
       "<style scoped>\n",
       "    .dataframe tbody tr th:only-of-type {\n",
       "        vertical-align: middle;\n",
       "    }\n",
       "\n",
       "    .dataframe tbody tr th {\n",
       "        vertical-align: top;\n",
       "    }\n",
       "\n",
       "    .dataframe thead th {\n",
       "        text-align: right;\n",
       "    }\n",
       "</style>\n",
       "<table border=\"1\" class=\"dataframe\">\n",
       "  <thead>\n",
       "    <tr style=\"text-align: right;\">\n",
       "      <th></th>\n",
       "      <th>Data Through Month</th>\n",
       "      <th>Interconnection Month</th>\n",
       "      <th>Utility</th>\n",
       "      <th>City/Town</th>\n",
       "      <th>County</th>\n",
       "      <th>Developer</th>\n",
       "      <th>Metering Method</th>\n",
       "      <th>Estimated PV System Size (kWdc)</th>\n",
       "      <th>PV System Size (kWac)</th>\n",
       "      <th>Estimated Annual PV Energy Production (kWh)</th>\n",
       "      <th>Number of Projects</th>\n",
       "    </tr>\n",
       "  </thead>\n",
       "  <tbody>\n",
       "    <tr>\n",
       "      <th>0</th>\n",
       "      <td>12</td>\n",
       "      <td>12</td>\n",
       "      <td>Con Ed</td>\n",
       "      <td>richmond hill</td>\n",
       "      <td>queens</td>\n",
       "      <td>Kamtech Solar Solutions</td>\n",
       "      <td>NM</td>\n",
       "      <td>6.05</td>\n",
       "      <td>5.17</td>\n",
       "      <td>7100.0</td>\n",
       "      <td>1</td>\n",
       "    </tr>\n",
       "    <tr>\n",
       "      <th>1</th>\n",
       "      <td>12</td>\n",
       "      <td>12</td>\n",
       "      <td>Con Ed</td>\n",
       "      <td>bronx</td>\n",
       "      <td>bronx</td>\n",
       "      <td>Kamtech Solar Solutions</td>\n",
       "      <td>NM</td>\n",
       "      <td>6.74</td>\n",
       "      <td>5.76</td>\n",
       "      <td>7911.0</td>\n",
       "      <td>1</td>\n",
       "    </tr>\n",
       "    <tr>\n",
       "      <th>2</th>\n",
       "      <td>12</td>\n",
       "      <td>12</td>\n",
       "      <td>Con Ed</td>\n",
       "      <td>brooklyn</td>\n",
       "      <td>kings</td>\n",
       "      <td>SUNCO</td>\n",
       "      <td>NM</td>\n",
       "      <td>3.05</td>\n",
       "      <td>2.61</td>\n",
       "      <td>3585.0</td>\n",
       "      <td>1</td>\n",
       "    </tr>\n",
       "    <tr>\n",
       "      <th>3</th>\n",
       "      <td>12</td>\n",
       "      <td>12</td>\n",
       "      <td>Con Ed</td>\n",
       "      <td>brooklyn</td>\n",
       "      <td>kings</td>\n",
       "      <td>Kamtech Solar Solutions</td>\n",
       "      <td>NM</td>\n",
       "      <td>5.62</td>\n",
       "      <td>4.80</td>\n",
       "      <td>6592.0</td>\n",
       "      <td>1</td>\n",
       "    </tr>\n",
       "    <tr>\n",
       "      <th>4</th>\n",
       "      <td>12</td>\n",
       "      <td>12</td>\n",
       "      <td>Con Ed</td>\n",
       "      <td>springfield gardens</td>\n",
       "      <td>queens</td>\n",
       "      <td>Kamtech Solar Solutions</td>\n",
       "      <td>NM</td>\n",
       "      <td>6.05</td>\n",
       "      <td>5.17</td>\n",
       "      <td>7100.0</td>\n",
       "      <td>1</td>\n",
       "    </tr>\n",
       "  </tbody>\n",
       "</table>\n",
       "</div>"
      ],
      "text/plain": [
       "   Data Through Month  Interconnection Month Utility            City/Town  \\\n",
       "0                  12                     12  Con Ed        richmond hill   \n",
       "1                  12                     12  Con Ed                bronx   \n",
       "2                  12                     12  Con Ed             brooklyn   \n",
       "3                  12                     12  Con Ed             brooklyn   \n",
       "4                  12                     12  Con Ed  springfield gardens   \n",
       "\n",
       "   County                Developer Metering Method  \\\n",
       "0  queens  Kamtech Solar Solutions              NM   \n",
       "1   bronx  Kamtech Solar Solutions              NM   \n",
       "2   kings                    SUNCO              NM   \n",
       "3   kings  Kamtech Solar Solutions              NM   \n",
       "4  queens  Kamtech Solar Solutions              NM   \n",
       "\n",
       "   Estimated PV System Size (kWdc)  PV System Size (kWac)  \\\n",
       "0                             6.05                   5.17   \n",
       "1                             6.74                   5.76   \n",
       "2                             3.05                   2.61   \n",
       "3                             5.62                   4.80   \n",
       "4                             6.05                   5.17   \n",
       "\n",
       "   Estimated Annual PV Energy Production (kWh)  Number of Projects  \n",
       "0                                       7100.0                   1  \n",
       "1                                       7911.0                   1  \n",
       "2                                       3585.0                   1  \n",
       "3                                       6592.0                   1  \n",
       "4                                       7100.0                   1  "
      ]
     },
     "execution_count": 73,
     "metadata": {},
     "output_type": "execute_result"
    }
   ],
   "source": [
    "df.head()"
   ]
  },
  {
   "cell_type": "code",
   "execution_count": 74,
   "id": "cec57dbb",
   "metadata": {},
   "outputs": [
    {
     "data": {
      "image/png": "[encoded data removed]",
      "text/plain": [
       "<Figure size 1000x600 with 1 Axes>"
      ]
     },
     "metadata": {},
     "output_type": "display_data"
    }
   ],
   "source": [
    "# Plotting histograms for distribution\n",
    "plt.figure(figsize=(10, 6))\n",
    "plt.hist(df['Interconnection Month'], bins=20, alpha=0.5, label='Interconnection Month')\n",
    "plt.title('Distribution Analysis')\n",
    "plt.xlabel('Month')\n",
    "plt.ylabel('Frequency')\n",
    "plt.legend()\n",
    "plt.show()\n",
    "# use bar plot to show the distribution"
   ]
  },
  {
   "cell_type": "markdown",
   "id": "e4237127",
   "metadata": {},
   "source": [
    "# Findings\n",
    "\n",
    "December month has Peaks in frequency with higher interconnection rates as compare to other months"
   ]
  },
  {
   "cell_type": "code",
   "execution_count": 75,
   "id": "4930773f",
   "metadata": {},
   "outputs": [
    {
     "data": {
      "text/html": [
       "<div>\n",
       "<style scoped>\n",
       "    .dataframe tbody tr th:only-of-type {\n",
       "        vertical-align: middle;\n",
       "    }\n",
       "\n",
       "    .dataframe tbody tr th {\n",
       "        vertical-align: top;\n",
       "    }\n",
       "\n",
       "    .dataframe thead th {\n",
       "        text-align: right;\n",
       "    }\n",
       "</style>\n",
       "<table border=\"1\" class=\"dataframe\">\n",
       "  <thead>\n",
       "    <tr style=\"text-align: right;\">\n",
       "      <th></th>\n",
       "      <th>Data Through Month</th>\n",
       "      <th>Interconnection Month</th>\n",
       "      <th>Utility</th>\n",
       "      <th>City/Town</th>\n",
       "      <th>County</th>\n",
       "      <th>Developer</th>\n",
       "      <th>Metering Method</th>\n",
       "      <th>Estimated PV System Size (kWdc)</th>\n",
       "      <th>PV System Size (kWac)</th>\n",
       "      <th>Estimated Annual PV Energy Production (kWh)</th>\n",
       "      <th>Number of Projects</th>\n",
       "    </tr>\n",
       "  </thead>\n",
       "  <tbody>\n",
       "    <tr>\n",
       "      <th>0</th>\n",
       "      <td>12</td>\n",
       "      <td>12</td>\n",
       "      <td>Con Ed</td>\n",
       "      <td>richmond hill</td>\n",
       "      <td>queens</td>\n",
       "      <td>Kamtech Solar Solutions</td>\n",
       "      <td>NM</td>\n",
       "      <td>6.05</td>\n",
       "      <td>5.17</td>\n",
       "      <td>7100.0</td>\n",
       "      <td>1</td>\n",
       "    </tr>\n",
       "    <tr>\n",
       "      <th>1</th>\n",
       "      <td>12</td>\n",
       "      <td>12</td>\n",
       "      <td>Con Ed</td>\n",
       "      <td>bronx</td>\n",
       "      <td>bronx</td>\n",
       "      <td>Kamtech Solar Solutions</td>\n",
       "      <td>NM</td>\n",
       "      <td>6.74</td>\n",
       "      <td>5.76</td>\n",
       "      <td>7911.0</td>\n",
       "      <td>1</td>\n",
       "    </tr>\n",
       "    <tr>\n",
       "      <th>2</th>\n",
       "      <td>12</td>\n",
       "      <td>12</td>\n",
       "      <td>Con Ed</td>\n",
       "      <td>brooklyn</td>\n",
       "      <td>kings</td>\n",
       "      <td>SUNCO</td>\n",
       "      <td>NM</td>\n",
       "      <td>3.05</td>\n",
       "      <td>2.61</td>\n",
       "      <td>3585.0</td>\n",
       "      <td>1</td>\n",
       "    </tr>\n",
       "    <tr>\n",
       "      <th>3</th>\n",
       "      <td>12</td>\n",
       "      <td>12</td>\n",
       "      <td>Con Ed</td>\n",
       "      <td>brooklyn</td>\n",
       "      <td>kings</td>\n",
       "      <td>Kamtech Solar Solutions</td>\n",
       "      <td>NM</td>\n",
       "      <td>5.62</td>\n",
       "      <td>4.80</td>\n",
       "      <td>6592.0</td>\n",
       "      <td>1</td>\n",
       "    </tr>\n",
       "    <tr>\n",
       "      <th>4</th>\n",
       "      <td>12</td>\n",
       "      <td>12</td>\n",
       "      <td>Con Ed</td>\n",
       "      <td>springfield gardens</td>\n",
       "      <td>queens</td>\n",
       "      <td>Kamtech Solar Solutions</td>\n",
       "      <td>NM</td>\n",
       "      <td>6.05</td>\n",
       "      <td>5.17</td>\n",
       "      <td>7100.0</td>\n",
       "      <td>1</td>\n",
       "    </tr>\n",
       "  </tbody>\n",
       "</table>\n",
       "</div>"
      ],
      "text/plain": [
       "   Data Through Month  Interconnection Month Utility            City/Town  \\\n",
       "0                  12                     12  Con Ed        richmond hill   \n",
       "1                  12                     12  Con Ed                bronx   \n",
       "2                  12                     12  Con Ed             brooklyn   \n",
       "3                  12                     12  Con Ed             brooklyn   \n",
       "4                  12                     12  Con Ed  springfield gardens   \n",
       "\n",
       "   County                Developer Metering Method  \\\n",
       "0  queens  Kamtech Solar Solutions              NM   \n",
       "1   bronx  Kamtech Solar Solutions              NM   \n",
       "2   kings                    SUNCO              NM   \n",
       "3   kings  Kamtech Solar Solutions              NM   \n",
       "4  queens  Kamtech Solar Solutions              NM   \n",
       "\n",
       "   Estimated PV System Size (kWdc)  PV System Size (kWac)  \\\n",
       "0                             6.05                   5.17   \n",
       "1                             6.74                   5.76   \n",
       "2                             3.05                   2.61   \n",
       "3                             5.62                   4.80   \n",
       "4                             6.05                   5.17   \n",
       "\n",
       "   Estimated Annual PV Energy Production (kWh)  Number of Projects  \n",
       "0                                       7100.0                   1  \n",
       "1                                       7911.0                   1  \n",
       "2                                       3585.0                   1  \n",
       "3                                       6592.0                   1  \n",
       "4                                       7100.0                   1  "
      ]
     },
     "execution_count": 75,
     "metadata": {},
     "output_type": "execute_result"
    }
   ],
   "source": [
    "df.head()"
   ]
  },
  {
   "cell_type": "code",
   "execution_count": 76,
   "id": "8875cd7c",
   "metadata": {},
   "outputs": [
    {
     "data": {
      "text/html": [
       "<div>\n",
       "<style scoped>\n",
       "    .dataframe tbody tr th:only-of-type {\n",
       "        vertical-align: middle;\n",
       "    }\n",
       "\n",
       "    .dataframe tbody tr th {\n",
       "        vertical-align: top;\n",
       "    }\n",
       "\n",
       "    .dataframe thead th {\n",
       "        text-align: right;\n",
       "    }\n",
       "</style>\n",
       "<table border=\"1\" class=\"dataframe\">\n",
       "  <thead>\n",
       "    <tr style=\"text-align: right;\">\n",
       "      <th></th>\n",
       "      <th>Data Through Month</th>\n",
       "      <th>Interconnection Month</th>\n",
       "      <th>Utility</th>\n",
       "      <th>City/Town</th>\n",
       "      <th>County</th>\n",
       "      <th>Developer</th>\n",
       "      <th>Metering Method</th>\n",
       "      <th>Estimated PV System Size (kWdc)</th>\n",
       "      <th>PV System Size (kWac)</th>\n",
       "      <th>Estimated Annual PV Energy Production (kWh)</th>\n",
       "      <th>Number of Projects</th>\n",
       "    </tr>\n",
       "  </thead>\n",
       "  <tbody>\n",
       "    <tr>\n",
       "      <th>0</th>\n",
       "      <td>12</td>\n",
       "      <td>12</td>\n",
       "      <td>Con Ed</td>\n",
       "      <td>richmond hill</td>\n",
       "      <td>queens</td>\n",
       "      <td>Kamtech Solar Solutions</td>\n",
       "      <td>NM</td>\n",
       "      <td>6.05</td>\n",
       "      <td>5.17</td>\n",
       "      <td>7100.0</td>\n",
       "      <td>1</td>\n",
       "    </tr>\n",
       "    <tr>\n",
       "      <th>1</th>\n",
       "      <td>12</td>\n",
       "      <td>12</td>\n",
       "      <td>Con Ed</td>\n",
       "      <td>bronx</td>\n",
       "      <td>bronx</td>\n",
       "      <td>Kamtech Solar Solutions</td>\n",
       "      <td>NM</td>\n",
       "      <td>6.74</td>\n",
       "      <td>5.76</td>\n",
       "      <td>7911.0</td>\n",
       "      <td>1</td>\n",
       "    </tr>\n",
       "    <tr>\n",
       "      <th>2</th>\n",
       "      <td>12</td>\n",
       "      <td>12</td>\n",
       "      <td>Con Ed</td>\n",
       "      <td>brooklyn</td>\n",
       "      <td>kings</td>\n",
       "      <td>SUNCO</td>\n",
       "      <td>NM</td>\n",
       "      <td>3.05</td>\n",
       "      <td>2.61</td>\n",
       "      <td>3585.0</td>\n",
       "      <td>1</td>\n",
       "    </tr>\n",
       "    <tr>\n",
       "      <th>3</th>\n",
       "      <td>12</td>\n",
       "      <td>12</td>\n",
       "      <td>Con Ed</td>\n",
       "      <td>brooklyn</td>\n",
       "      <td>kings</td>\n",
       "      <td>Kamtech Solar Solutions</td>\n",
       "      <td>NM</td>\n",
       "      <td>5.62</td>\n",
       "      <td>4.80</td>\n",
       "      <td>6592.0</td>\n",
       "      <td>1</td>\n",
       "    </tr>\n",
       "    <tr>\n",
       "      <th>4</th>\n",
       "      <td>12</td>\n",
       "      <td>12</td>\n",
       "      <td>Con Ed</td>\n",
       "      <td>springfield gardens</td>\n",
       "      <td>queens</td>\n",
       "      <td>Kamtech Solar Solutions</td>\n",
       "      <td>NM</td>\n",
       "      <td>6.05</td>\n",
       "      <td>5.17</td>\n",
       "      <td>7100.0</td>\n",
       "      <td>1</td>\n",
       "    </tr>\n",
       "  </tbody>\n",
       "</table>\n",
       "</div>"
      ],
      "text/plain": [
       "   Data Through Month  Interconnection Month Utility            City/Town  \\\n",
       "0                  12                     12  Con Ed        richmond hill   \n",
       "1                  12                     12  Con Ed                bronx   \n",
       "2                  12                     12  Con Ed             brooklyn   \n",
       "3                  12                     12  Con Ed             brooklyn   \n",
       "4                  12                     12  Con Ed  springfield gardens   \n",
       "\n",
       "   County                Developer Metering Method  \\\n",
       "0  queens  Kamtech Solar Solutions              NM   \n",
       "1   bronx  Kamtech Solar Solutions              NM   \n",
       "2   kings                    SUNCO              NM   \n",
       "3   kings  Kamtech Solar Solutions              NM   \n",
       "4  queens  Kamtech Solar Solutions              NM   \n",
       "\n",
       "   Estimated PV System Size (kWdc)  PV System Size (kWac)  \\\n",
       "0                             6.05                   5.17   \n",
       "1                             6.74                   5.76   \n",
       "2                             3.05                   2.61   \n",
       "3                             5.62                   4.80   \n",
       "4                             6.05                   5.17   \n",
       "\n",
       "   Estimated Annual PV Energy Production (kWh)  Number of Projects  \n",
       "0                                       7100.0                   1  \n",
       "1                                       7911.0                   1  \n",
       "2                                       3585.0                   1  \n",
       "3                                       6592.0                   1  \n",
       "4                                       7100.0                   1  "
      ]
     },
     "execution_count": 76,
     "metadata": {},
     "output_type": "execute_result"
    }
   ],
   "source": [
    "df.head()"
   ]
  },
  {
   "cell_type": "markdown",
   "id": "817ff955",
   "metadata": {},
   "source": [
    "# Scaling(Normalization)\n",
    "\n",
    "The provided code utilizes the MinMaxScaler from scikit-learn to perform min-max scaling on three numerical features: 'Estimated PV System Size (kWdc)', 'PV System Size (kWac)', and 'Estimated Annual PV Energy Production (kWh)'. Here's the conclusion:\n",
    "\n",
    "The MinMaxScaler scales the features to a fixed range between 0 and 1, ensuring that all features are standardized and have a comparable scale.\n",
    "\n",
    "The scaled features are then used to create a new DataFrame, 'scaled_df', containing the transformed data, with each feature now normalized.\n",
    "\n",
    "This preprocessing step is valuable for machine learning tasks, as it helps mitigate the impact of varying scales among features and facilitates more effective model training and evaluation."
   ]
  },
  {
   "cell_type": "code",
   "execution_count": 77,
   "id": "dd32dc3a",
   "metadata": {},
   "outputs": [],
   "source": [
    "from sklearn.preprocessing import MinMaxScaler"
   ]
  },
  {
   "cell_type": "code",
   "execution_count": 78,
   "id": "2d1f1c8e",
   "metadata": {},
   "outputs": [],
   "source": [
    "scaler = MinMaxScaler()\n",
    "\n",
    "scaled_features = scaler.fit_transform(df[['Estimated PV System Size (kWdc)', 'PV System Size (kWac)', 'Estimated Annual PV Energy Production (kWh)']])\n",
    "\n",
    "scaled_df = pd.DataFrame(scaled_features, columns=['Estimated PV System Size (kWdc)', 'PV System Size (kWac)', 'Estimated Annual PV Energy Production (kWh)'])"
   ]
  },
  {
   "cell_type": "markdown",
   "id": "f05de6fd",
   "metadata": {},
   "source": [
    "I created a new DataFrame called 'finaldf' to hold the scaled data from 'scaled_df'. This allows us to work with the standardized features for analysis or modeling purposes."
   ]
  },
  {
   "cell_type": "code",
   "execution_count": 79,
   "id": "08f7c3a5",
   "metadata": {},
   "outputs": [],
   "source": [
    "finaldf = scaled_df[['Estimated PV System Size (kWdc)','PV System Size (kWac)','Estimated Annual PV Energy Production (kWh)']]"
   ]
  },
  {
   "cell_type": "code",
   "execution_count": 80,
   "id": "9b7cd33b",
   "metadata": {},
   "outputs": [
    {
     "data": {
      "text/html": [
       "<div>\n",
       "<style scoped>\n",
       "    .dataframe tbody tr th:only-of-type {\n",
       "        vertical-align: middle;\n",
       "    }\n",
       "\n",
       "    .dataframe tbody tr th {\n",
       "        vertical-align: top;\n",
       "    }\n",
       "\n",
       "    .dataframe thead th {\n",
       "        text-align: right;\n",
       "    }\n",
       "</style>\n",
       "<table border=\"1\" class=\"dataframe\">\n",
       "  <thead>\n",
       "    <tr style=\"text-align: right;\">\n",
       "      <th></th>\n",
       "      <th>Estimated PV System Size (kWdc)</th>\n",
       "      <th>PV System Size (kWac)</th>\n",
       "      <th>Estimated Annual PV Energy Production (kWh)</th>\n",
       "    </tr>\n",
       "  </thead>\n",
       "  <tbody>\n",
       "    <tr>\n",
       "      <th>0</th>\n",
       "      <td>0.339231</td>\n",
       "      <td>0.339250</td>\n",
       "      <td>0.339222</td>\n",
       "    </tr>\n",
       "    <tr>\n",
       "      <th>1</th>\n",
       "      <td>0.377984</td>\n",
       "      <td>0.378041</td>\n",
       "      <td>0.378046</td>\n",
       "    </tr>\n",
       "    <tr>\n",
       "      <th>2</th>\n",
       "      <td>0.170739</td>\n",
       "      <td>0.170940</td>\n",
       "      <td>0.170951</td>\n",
       "    </tr>\n",
       "    <tr>\n",
       "      <th>3</th>\n",
       "      <td>0.315080</td>\n",
       "      <td>0.314924</td>\n",
       "      <td>0.314903</td>\n",
       "    </tr>\n",
       "    <tr>\n",
       "      <th>4</th>\n",
       "      <td>0.339231</td>\n",
       "      <td>0.339250</td>\n",
       "      <td>0.339222</td>\n",
       "    </tr>\n",
       "  </tbody>\n",
       "</table>\n",
       "</div>"
      ],
      "text/plain": [
       "   Estimated PV System Size (kWdc)  PV System Size (kWac)  \\\n",
       "0                         0.339231               0.339250   \n",
       "1                         0.377984               0.378041   \n",
       "2                         0.170739               0.170940   \n",
       "3                         0.315080               0.314924   \n",
       "4                         0.339231               0.339250   \n",
       "\n",
       "   Estimated Annual PV Energy Production (kWh)  \n",
       "0                                     0.339222  \n",
       "1                                     0.378046  \n",
       "2                                     0.170951  \n",
       "3                                     0.314903  \n",
       "4                                     0.339222  "
      ]
     },
     "execution_count": 80,
     "metadata": {},
     "output_type": "execute_result"
    }
   ],
   "source": [
    "finaldf.head()"
   ]
  },
  {
   "cell_type": "markdown",
   "id": "74fb7948",
   "metadata": {},
   "source": [
    "I saved that finaldf dataframe into X variable"
   ]
  },
  {
   "cell_type": "code",
   "execution_count": 81,
   "id": "076c6e1a",
   "metadata": {},
   "outputs": [],
   "source": [
    "X = finaldf[['Estimated PV System Size (kWdc)', 'PV System Size (kWac)', 'Estimated Annual PV Energy Production (kWh)']].values"
   ]
  },
  {
   "cell_type": "markdown",
   "id": "2d4d3df5",
   "metadata": {},
   "source": [
    "## Model Building"
   ]
  },
  {
   "cell_type": "code",
   "execution_count": 82,
   "id": "eb4c145f",
   "metadata": {},
   "outputs": [],
   "source": [
    "from sklearn.cluster import KMeans\n",
    "from sklearn.datasets import make_blobs"
   ]
  },
  {
   "cell_type": "markdown",
   "id": "15ff3154",
   "metadata": {},
   "source": [
    "# K-Means Clustering Algorithm\n",
    "\n",
    "K-means clustering is an unsupervised machine learning algorithm.\n",
    "\n",
    "It partitions a dataset into K distinct clusters.\n",
    "\n",
    "The objective is to minimize the within-cluster variance.\n",
    "\n",
    "Each cluster is represented by its centroid, calculated as the mean of the data points in the cluster.\n",
    "\n",
    "The algorithm iteratively assigns data points to the nearest centroid and updates the centroids based on the mean of the data points in each cluster.\n",
    "\n",
    "The process continues until convergence, where centroids no longer change significantly, or a specified number of iterations is reached.\n",
    "\n",
    "K-means clustering finds applications in customer segmentation, image segmentation, and anomaly detection, among others."
   ]
  },
  {
   "cell_type": "code",
   "execution_count": 83,
   "id": "ee357a46",
   "metadata": {},
   "outputs": [],
   "source": [
    "def calculate_distortion(X, n_clusters):\n",
    "    distortions = []\n",
    "    for i in range(1, n_clusters + 1):\n",
    "        kmeans = KMeans(n_clusters=i, random_state=42)\n",
    "        kmeans.fit(X)\n",
    "        distortions.append(kmeans.inertia_)\n",
    "    return distortions"
   ]
  },
  {
   "cell_type": "markdown",
   "id": "cff2d256",
   "metadata": {},
   "source": [
    "The function takes two arguments: X (the dataset) and n_clusters (the maximum number of clusters to consider).\n",
    "\n",
    "It initializes an empty list called distortions to store the distortion values for each number of clusters.\n",
    "\n",
    "It iterates through each possible number of clusters from 1 to n_clusters.\n",
    "\n",
    "For each iteration, it creates a KMeans object with the specified number of clusters and fits it to the dataset X.\n",
    "\n",
    "It computes the inertia of the KMeans model, which is a measure of how tightly clustered the data points are around the centroids.\n",
    "\n",
    "The inertia value is appended to the distortions list.\n",
    "\n",
    "Finally, the function returns the list of distortion values for different numbers of clusters."
   ]
  },
  {
   "cell_type": "code",
   "execution_count": 84,
   "id": "c43a7e7e",
   "metadata": {},
   "outputs": [],
   "source": [
    "def plot_elbow(distortions, n_clusters):\n",
    "    plt.plot(range(1, n_clusters + 1), distortions, marker='o')\n",
    "    plt.title('Elbow Plot')\n",
    "    plt.xlabel('Number of clusters')\n",
    "    plt.ylabel('Distortion')\n",
    "    plt.show()"
   ]
  },
  {
   "cell_type": "code",
   "execution_count": 85,
   "id": "be3dec32",
   "metadata": {},
   "outputs": [
    {
     "name": "stderr",
     "output_type": "stream",
     "text": [
      "C:\\Users\\Tanvi\\anaconda3\\Lib\\site-packages\\sklearn\\cluster\\_kmeans.py:1412: FutureWarning: The default value of `n_init` will change from 10 to 'auto' in 1.4. Set the value of `n_init` explicitly to suppress the warning\n",
      "  super()._check_params_vs_input(X, default_n_init=10)\n",
      "C:\\Users\\Tanvi\\anaconda3\\Lib\\site-packages\\sklearn\\cluster\\_kmeans.py:1412: FutureWarning: The default value of `n_init` will change from 10 to 'auto' in 1.4. Set the value of `n_init` explicitly to suppress the warning\n",
      "  super()._check_params_vs_input(X, default_n_init=10)\n",
      "C:\\Users\\Tanvi\\anaconda3\\Lib\\site-packages\\sklearn\\cluster\\_kmeans.py:1412: FutureWarning: The default value of `n_init` will change from 10 to 'auto' in 1.4. Set the value of `n_init` explicitly to suppress the warning\n",
      "  super()._check_params_vs_input(X, default_n_init=10)\n",
      "C:\\Users\\Tanvi\\anaconda3\\Lib\\site-packages\\sklearn\\cluster\\_kmeans.py:1412: FutureWarning: The default value of `n_init` will change from 10 to 'auto' in 1.4. Set the value of `n_init` explicitly to suppress the warning\n",
      "  super()._check_params_vs_input(X, default_n_init=10)\n",
      "C:\\Users\\Tanvi\\anaconda3\\Lib\\site-packages\\sklearn\\cluster\\_kmeans.py:1412: FutureWarning: The default value of `n_init` will change from 10 to 'auto' in 1.4. Set the value of `n_init` explicitly to suppress the warning\n",
      "  super()._check_params_vs_input(X, default_n_init=10)\n",
      "C:\\Users\\Tanvi\\anaconda3\\Lib\\site-packages\\sklearn\\cluster\\_kmeans.py:1412: FutureWarning: The default value of `n_init` will change from 10 to 'auto' in 1.4. Set the value of `n_init` explicitly to suppress the warning\n",
      "  super()._check_params_vs_input(X, default_n_init=10)\n",
      "C:\\Users\\Tanvi\\anaconda3\\Lib\\site-packages\\sklearn\\cluster\\_kmeans.py:1412: FutureWarning: The default value of `n_init` will change from 10 to 'auto' in 1.4. Set the value of `n_init` explicitly to suppress the warning\n",
      "  super()._check_params_vs_input(X, default_n_init=10)\n",
      "C:\\Users\\Tanvi\\anaconda3\\Lib\\site-packages\\sklearn\\cluster\\_kmeans.py:1412: FutureWarning: The default value of `n_init` will change from 10 to 'auto' in 1.4. Set the value of `n_init` explicitly to suppress the warning\n",
      "  super()._check_params_vs_input(X, default_n_init=10)\n",
      "C:\\Users\\Tanvi\\anaconda3\\Lib\\site-packages\\sklearn\\cluster\\_kmeans.py:1412: FutureWarning: The default value of `n_init` will change from 10 to 'auto' in 1.4. Set the value of `n_init` explicitly to suppress the warning\n",
      "  super()._check_params_vs_input(X, default_n_init=10)\n",
      "C:\\Users\\Tanvi\\anaconda3\\Lib\\site-packages\\sklearn\\cluster\\_kmeans.py:1412: FutureWarning: The default value of `n_init` will change from 10 to 'auto' in 1.4. Set the value of `n_init` explicitly to suppress the warning\n",
      "  super()._check_params_vs_input(X, default_n_init=10)\n"
     ]
    },
    {
     "data": {
      "image/png": "[encoded data removed]",
      "text/plain": [
       "<Figure size 640x480 with 1 Axes>"
      ]
     },
     "metadata": {},
     "output_type": "display_data"
    }
   ],
   "source": [
    "distortions = calculate_distortion(X, n_clusters=10)\n",
    "plot_elbow(distortions, n_clusters=10)"
   ]
  },
  {
   "cell_type": "markdown",
   "id": "97a3f3b8",
   "metadata": {},
   "source": [
    "Based on the elbow method, 3 appears to be the most suitable number of clusters for the given dataset.\n",
    "\n",
    "This insight can guide further analysis and decision-making processes, such as segmenting data into distinct groups for targeted actions or understanding underlying patterns within the data."
   ]
  },
  {
   "cell_type": "code",
   "execution_count": 86,
   "id": "0a60bacc",
   "metadata": {},
   "outputs": [
    {
     "name": "stderr",
     "output_type": "stream",
     "text": [
      "C:\\Users\\Tanvi\\anaconda3\\Lib\\site-packages\\sklearn\\cluster\\_kmeans.py:1412: FutureWarning: The default value of `n_init` will change from 10 to 'auto' in 1.4. Set the value of `n_init` explicitly to suppress the warning\n",
      "  super()._check_params_vs_input(X, default_n_init=10)\n"
     ]
    }
   ],
   "source": [
    "optimal_clusters = 3\n",
    "kmeans = KMeans(n_clusters=optimal_clusters, random_state=42)\n",
    "kmeans.fit(X)\n",
    "labels = kmeans.labels_"
   ]
  },
  {
   "cell_type": "code",
   "execution_count": 87,
   "id": "c0b11518",
   "metadata": {},
   "outputs": [
    {
     "data": {
      "image/png": "[encoded data removed]",
      "text/plain": [
       "<Figure size 640x480 with 1 Axes>"
      ]
     },
     "metadata": {},
     "output_type": "display_data"
    }
   ],
   "source": [
    "plt.scatter(X[:, 0], X[:, 1], c=labels, cmap='viridis')\n",
    "plt.scatter(kmeans.cluster_centers_[:, 0], kmeans.cluster_centers_[:, 1], s=300, c='red', marker='X', label='Centroids')\n",
    "plt.title('KMeans Clustering')\n",
    "plt.xlabel('Estimated PV System Size (kWdc)')\n",
    "plt.ylabel('PV System Size (kWac)')\n",
    "plt.legend()\n",
    "plt.show()"
   ]
  },
  {
   "cell_type": "code",
   "execution_count": 88,
   "id": "a684f2bb",
   "metadata": {
    "scrolled": true
   },
   "outputs": [
    {
     "data": {
      "image/png": "[encoded data removed]",
      "text/plain": [
       "<Figure size 800x600 with 1 Axes>"
      ]
     },
     "metadata": {},
     "output_type": "display_data"
    },
    {
     "data": {
      "image/png": "[encoded data removed]",
      "text/plain": [
       "<Figure size 800x600 with 1 Axes>"
      ]
     },
     "metadata": {},
     "output_type": "display_data"
    },
    {
     "data": {
      "image/png": "[encoded data removed]",
      "text/plain": [
       "<Figure size 800x600 with 1 Axes>"
      ]
     },
     "metadata": {},
     "output_type": "display_data"
    }
   ],
   "source": [
    "feature_names = ['Estimated PV System Size (kWdc)', 'PV System Size (kWac)', 'Estimated Annual PV Energy Production (kWh)']\n",
    "\n",
    "for i in range(len(feature_names)):\n",
    "    for j in range(i + 1, len(feature_names)):\n",
    "        plt.figure(figsize=(8, 6))\n",
    "        plt.scatter(X[:, i], X[:, j], c=labels, cmap='viridis')\n",
    "        plt.scatter(kmeans.cluster_centers_[:, i], kmeans.cluster_centers_[:, j], s=300, c='red', marker='X', label='Centroids')\n",
    "        plt.title('KMeans Clustering')\n",
    "        plt.xlabel(feature_names[i])\n",
    "        plt.ylabel(feature_names[j])\n",
    "        plt.legend()\n",
    "        plt.show()"
   ]
  },
  {
   "cell_type": "markdown",
   "id": "aefe2480",
   "metadata": {},
   "source": [
    "The linear grouping and placement of centroids suggest that the algorithm effectively separates the data into three clusters based on their feature values."
   ]
  },
  {
   "cell_type": "code",
   "execution_count": 89,
   "id": "e9b3bfe1",
   "metadata": {},
   "outputs": [],
   "source": [
    "\n",
    "df['Cluster'] = labels\n",
    "\n",
    "\n",
    "segmentation_map = {\n",
    "    0: 'lower zone',\n",
    "    1: 'moderate zone',\n",
    "    2: 'higher zone'\n",
    "    \n",
    "}\n",
    "\n",
    "\n",
    "df['Segment'] = df['Cluster'].map(segmentation_map)"
   ]
  },
  {
   "cell_type": "code",
   "execution_count": 90,
   "id": "22f9d52f",
   "metadata": {},
   "outputs": [
    {
     "data": {
      "text/html": [
       "<div>\n",
       "<style scoped>\n",
       "    .dataframe tbody tr th:only-of-type {\n",
       "        vertical-align: middle;\n",
       "    }\n",
       "\n",
       "    .dataframe tbody tr th {\n",
       "        vertical-align: top;\n",
       "    }\n",
       "\n",
       "    .dataframe thead th {\n",
       "        text-align: right;\n",
       "    }\n",
       "</style>\n",
       "<table border=\"1\" class=\"dataframe\">\n",
       "  <thead>\n",
       "    <tr style=\"text-align: right;\">\n",
       "      <th></th>\n",
       "      <th>Estimated PV System Size (kWdc)</th>\n",
       "      <th>PV System Size (kWac)</th>\n",
       "      <th>Estimated Annual PV Energy Production (kWh)</th>\n",
       "    </tr>\n",
       "  </thead>\n",
       "  <tbody>\n",
       "    <tr>\n",
       "      <th>0</th>\n",
       "      <td>0.339231</td>\n",
       "      <td>0.339250</td>\n",
       "      <td>0.339222</td>\n",
       "    </tr>\n",
       "    <tr>\n",
       "      <th>1</th>\n",
       "      <td>0.377984</td>\n",
       "      <td>0.378041</td>\n",
       "      <td>0.378046</td>\n",
       "    </tr>\n",
       "    <tr>\n",
       "      <th>2</th>\n",
       "      <td>0.170739</td>\n",
       "      <td>0.170940</td>\n",
       "      <td>0.170951</td>\n",
       "    </tr>\n",
       "    <tr>\n",
       "      <th>3</th>\n",
       "      <td>0.315080</td>\n",
       "      <td>0.314924</td>\n",
       "      <td>0.314903</td>\n",
       "    </tr>\n",
       "    <tr>\n",
       "      <th>4</th>\n",
       "      <td>0.339231</td>\n",
       "      <td>0.339250</td>\n",
       "      <td>0.339222</td>\n",
       "    </tr>\n",
       "  </tbody>\n",
       "</table>\n",
       "</div>"
      ],
      "text/plain": [
       "   Estimated PV System Size (kWdc)  PV System Size (kWac)  \\\n",
       "0                         0.339231               0.339250   \n",
       "1                         0.377984               0.378041   \n",
       "2                         0.170739               0.170940   \n",
       "3                         0.315080               0.314924   \n",
       "4                         0.339231               0.339250   \n",
       "\n",
       "   Estimated Annual PV Energy Production (kWh)  \n",
       "0                                     0.339222  \n",
       "1                                     0.378046  \n",
       "2                                     0.170951  \n",
       "3                                     0.314903  \n",
       "4                                     0.339222  "
      ]
     },
     "execution_count": 90,
     "metadata": {},
     "output_type": "execute_result"
    }
   ],
   "source": [
    "finaldf.head()"
   ]
  },
  {
   "cell_type": "code",
   "execution_count": 91,
   "id": "9d70f7bd",
   "metadata": {},
   "outputs": [],
   "source": [
    "df.to_csv('segmented_data1.csv', index=False)"
   ]
  },
  {
   "cell_type": "markdown",
   "id": "d4a655ea",
   "metadata": {},
   "source": [
    "# Conclusion"
   ]
  },
  {
   "cell_type": "markdown",
   "id": "bc3912e3",
   "metadata": {},
   "source": [
    "The addition of the 'Cluster' and 'Segment' columns enables the DataFrame to categorize each data point into meaningful segments based on the clustering results.\n",
    "\n",
    "In the higher zone, the estimated annual PV energy production is the highest at 18.67k, followed by 11.32k in the lower zone and 6.12k in the moderate zone.\n",
    "\n",
    "The average PV system size in the higher zone is the highest among all zones, indicating larger solar installations in this area.\n",
    "\n",
    "In December, all annual PV energy production occurs, indicating that December is a significant month for solar energy production, potentially due to favorable weather conditions or operational factors."
   ]
  },
  {
   "cell_type": "code",
   "execution_count": null,
   "id": "72f69d2b",
   "metadata": {},
   "outputs": [],
   "source": []
  }
 ],
 "metadata": {
  "kernelspec": {
   "display_name": "Python 3 (ipykernel)",
   "language": "python",
   "name": "python3"
  },
  "language_info": {
   "codemirror_mode": {
    "name": "ipython",
    "version": 3
   },
   "file_extension": ".py",
   "mimetype": "text/x-python",
   "name": "python",
   "nbconvert_exporter": "python",
   "pygments_lexer": "ipython3",
   "version": "3.11.4"
  }
 },
 "nbformat": 4,
 "nbformat_minor": 5
}
